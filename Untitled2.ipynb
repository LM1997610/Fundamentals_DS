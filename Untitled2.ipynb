{
  "nbformat": 4,
  "nbformat_minor": 0,
  "metadata": {
    "colab": {
      "provenance": [],
      "gpuType": "T4",
      "authorship_tag": "ABX9TyPQjBsTokHuoLau6Lnw1w7C",
      "include_colab_link": true
    },
    "kernelspec": {
      "name": "python3",
      "display_name": "Python 3"
    },
    "language_info": {
      "name": "python"
    },
    "accelerator": "GPU",
    "widgets": {
      "application/vnd.jupyter.widget-state+json": {
        "432c53ae189d4fb4887f388115725c84": {
          "model_module": "@jupyter-widgets/controls",
          "model_name": "HBoxModel",
          "model_module_version": "1.5.0",
          "state": {
            "_dom_classes": [],
            "_model_module": "@jupyter-widgets/controls",
            "_model_module_version": "1.5.0",
            "_model_name": "HBoxModel",
            "_view_count": null,
            "_view_module": "@jupyter-widgets/controls",
            "_view_module_version": "1.5.0",
            "_view_name": "HBoxView",
            "box_style": "",
            "children": [
              "IPY_MODEL_56a4878b28944ada948e6e116e9e5815",
              "IPY_MODEL_8d4d24435d654f3a925c4b338be672d7",
              "IPY_MODEL_839c4c99618149e0a00cc905da0b4441"
            ],
            "layout": "IPY_MODEL_ec03afc23d97495db04c4403440b370f"
          }
        },
        "56a4878b28944ada948e6e116e9e5815": {
          "model_module": "@jupyter-widgets/controls",
          "model_name": "HTMLModel",
          "model_module_version": "1.5.0",
          "state": {
            "_dom_classes": [],
            "_model_module": "@jupyter-widgets/controls",
            "_model_module_version": "1.5.0",
            "_model_name": "HTMLModel",
            "_view_count": null,
            "_view_module": "@jupyter-widgets/controls",
            "_view_module_version": "1.5.0",
            "_view_name": "HTMLView",
            "description": "",
            "description_tooltip": null,
            "layout": "IPY_MODEL_3a35bbd91531489994c5f72911ab3828",
            "placeholder": "​",
            "style": "IPY_MODEL_bcde3f9b07de443fae4d9eed22390932",
            "value": "100%"
          }
        },
        "8d4d24435d654f3a925c4b338be672d7": {
          "model_module": "@jupyter-widgets/controls",
          "model_name": "FloatProgressModel",
          "model_module_version": "1.5.0",
          "state": {
            "_dom_classes": [],
            "_model_module": "@jupyter-widgets/controls",
            "_model_module_version": "1.5.0",
            "_model_name": "FloatProgressModel",
            "_view_count": null,
            "_view_module": "@jupyter-widgets/controls",
            "_view_module_version": "1.5.0",
            "_view_name": "ProgressView",
            "bar_style": "success",
            "description": "",
            "description_tooltip": null,
            "layout": "IPY_MODEL_d9fc217502fd4ac28101a583af7df4ac",
            "max": 25,
            "min": 0,
            "orientation": "horizontal",
            "style": "IPY_MODEL_460194980c374516806b94b2ef6f21cd",
            "value": 25
          }
        },
        "839c4c99618149e0a00cc905da0b4441": {
          "model_module": "@jupyter-widgets/controls",
          "model_name": "HTMLModel",
          "model_module_version": "1.5.0",
          "state": {
            "_dom_classes": [],
            "_model_module": "@jupyter-widgets/controls",
            "_model_module_version": "1.5.0",
            "_model_name": "HTMLModel",
            "_view_count": null,
            "_view_module": "@jupyter-widgets/controls",
            "_view_module_version": "1.5.0",
            "_view_name": "HTMLView",
            "description": "",
            "description_tooltip": null,
            "layout": "IPY_MODEL_1f5a0cff74c2456d94e4ffc0aecdf949",
            "placeholder": "​",
            "style": "IPY_MODEL_34bce75f1e9c4d5ea8db26def1fa11e9",
            "value": " 25/25 [08:04&lt;00:00, 19.26s/it]"
          }
        },
        "ec03afc23d97495db04c4403440b370f": {
          "model_module": "@jupyter-widgets/base",
          "model_name": "LayoutModel",
          "model_module_version": "1.2.0",
          "state": {
            "_model_module": "@jupyter-widgets/base",
            "_model_module_version": "1.2.0",
            "_model_name": "LayoutModel",
            "_view_count": null,
            "_view_module": "@jupyter-widgets/base",
            "_view_module_version": "1.2.0",
            "_view_name": "LayoutView",
            "align_content": null,
            "align_items": null,
            "align_self": null,
            "border": null,
            "bottom": null,
            "display": null,
            "flex": null,
            "flex_flow": null,
            "grid_area": null,
            "grid_auto_columns": null,
            "grid_auto_flow": null,
            "grid_auto_rows": null,
            "grid_column": null,
            "grid_gap": null,
            "grid_row": null,
            "grid_template_areas": null,
            "grid_template_columns": null,
            "grid_template_rows": null,
            "height": null,
            "justify_content": null,
            "justify_items": null,
            "left": null,
            "margin": null,
            "max_height": null,
            "max_width": null,
            "min_height": null,
            "min_width": null,
            "object_fit": null,
            "object_position": null,
            "order": null,
            "overflow": null,
            "overflow_x": null,
            "overflow_y": null,
            "padding": null,
            "right": null,
            "top": null,
            "visibility": null,
            "width": null
          }
        },
        "3a35bbd91531489994c5f72911ab3828": {
          "model_module": "@jupyter-widgets/base",
          "model_name": "LayoutModel",
          "model_module_version": "1.2.0",
          "state": {
            "_model_module": "@jupyter-widgets/base",
            "_model_module_version": "1.2.0",
            "_model_name": "LayoutModel",
            "_view_count": null,
            "_view_module": "@jupyter-widgets/base",
            "_view_module_version": "1.2.0",
            "_view_name": "LayoutView",
            "align_content": null,
            "align_items": null,
            "align_self": null,
            "border": null,
            "bottom": null,
            "display": null,
            "flex": null,
            "flex_flow": null,
            "grid_area": null,
            "grid_auto_columns": null,
            "grid_auto_flow": null,
            "grid_auto_rows": null,
            "grid_column": null,
            "grid_gap": null,
            "grid_row": null,
            "grid_template_areas": null,
            "grid_template_columns": null,
            "grid_template_rows": null,
            "height": null,
            "justify_content": null,
            "justify_items": null,
            "left": null,
            "margin": null,
            "max_height": null,
            "max_width": null,
            "min_height": null,
            "min_width": null,
            "object_fit": null,
            "object_position": null,
            "order": null,
            "overflow": null,
            "overflow_x": null,
            "overflow_y": null,
            "padding": null,
            "right": null,
            "top": null,
            "visibility": null,
            "width": null
          }
        },
        "bcde3f9b07de443fae4d9eed22390932": {
          "model_module": "@jupyter-widgets/controls",
          "model_name": "DescriptionStyleModel",
          "model_module_version": "1.5.0",
          "state": {
            "_model_module": "@jupyter-widgets/controls",
            "_model_module_version": "1.5.0",
            "_model_name": "DescriptionStyleModel",
            "_view_count": null,
            "_view_module": "@jupyter-widgets/base",
            "_view_module_version": "1.2.0",
            "_view_name": "StyleView",
            "description_width": ""
          }
        },
        "d9fc217502fd4ac28101a583af7df4ac": {
          "model_module": "@jupyter-widgets/base",
          "model_name": "LayoutModel",
          "model_module_version": "1.2.0",
          "state": {
            "_model_module": "@jupyter-widgets/base",
            "_model_module_version": "1.2.0",
            "_model_name": "LayoutModel",
            "_view_count": null,
            "_view_module": "@jupyter-widgets/base",
            "_view_module_version": "1.2.0",
            "_view_name": "LayoutView",
            "align_content": null,
            "align_items": null,
            "align_self": null,
            "border": null,
            "bottom": null,
            "display": null,
            "flex": null,
            "flex_flow": null,
            "grid_area": null,
            "grid_auto_columns": null,
            "grid_auto_flow": null,
            "grid_auto_rows": null,
            "grid_column": null,
            "grid_gap": null,
            "grid_row": null,
            "grid_template_areas": null,
            "grid_template_columns": null,
            "grid_template_rows": null,
            "height": null,
            "justify_content": null,
            "justify_items": null,
            "left": null,
            "margin": null,
            "max_height": null,
            "max_width": null,
            "min_height": null,
            "min_width": null,
            "object_fit": null,
            "object_position": null,
            "order": null,
            "overflow": null,
            "overflow_x": null,
            "overflow_y": null,
            "padding": null,
            "right": null,
            "top": null,
            "visibility": null,
            "width": null
          }
        },
        "460194980c374516806b94b2ef6f21cd": {
          "model_module": "@jupyter-widgets/controls",
          "model_name": "ProgressStyleModel",
          "model_module_version": "1.5.0",
          "state": {
            "_model_module": "@jupyter-widgets/controls",
            "_model_module_version": "1.5.0",
            "_model_name": "ProgressStyleModel",
            "_view_count": null,
            "_view_module": "@jupyter-widgets/base",
            "_view_module_version": "1.2.0",
            "_view_name": "StyleView",
            "bar_color": null,
            "description_width": ""
          }
        },
        "1f5a0cff74c2456d94e4ffc0aecdf949": {
          "model_module": "@jupyter-widgets/base",
          "model_name": "LayoutModel",
          "model_module_version": "1.2.0",
          "state": {
            "_model_module": "@jupyter-widgets/base",
            "_model_module_version": "1.2.0",
            "_model_name": "LayoutModel",
            "_view_count": null,
            "_view_module": "@jupyter-widgets/base",
            "_view_module_version": "1.2.0",
            "_view_name": "LayoutView",
            "align_content": null,
            "align_items": null,
            "align_self": null,
            "border": null,
            "bottom": null,
            "display": null,
            "flex": null,
            "flex_flow": null,
            "grid_area": null,
            "grid_auto_columns": null,
            "grid_auto_flow": null,
            "grid_auto_rows": null,
            "grid_column": null,
            "grid_gap": null,
            "grid_row": null,
            "grid_template_areas": null,
            "grid_template_columns": null,
            "grid_template_rows": null,
            "height": null,
            "justify_content": null,
            "justify_items": null,
            "left": null,
            "margin": null,
            "max_height": null,
            "max_width": null,
            "min_height": null,
            "min_width": null,
            "object_fit": null,
            "object_position": null,
            "order": null,
            "overflow": null,
            "overflow_x": null,
            "overflow_y": null,
            "padding": null,
            "right": null,
            "top": null,
            "visibility": null,
            "width": null
          }
        },
        "34bce75f1e9c4d5ea8db26def1fa11e9": {
          "model_module": "@jupyter-widgets/controls",
          "model_name": "DescriptionStyleModel",
          "model_module_version": "1.5.0",
          "state": {
            "_model_module": "@jupyter-widgets/controls",
            "_model_module_version": "1.5.0",
            "_model_name": "DescriptionStyleModel",
            "_view_count": null,
            "_view_module": "@jupyter-widgets/base",
            "_view_module_version": "1.2.0",
            "_view_name": "StyleView",
            "description_width": ""
          }
        }
      }
    }
  },
  "cells": [
    {
      "cell_type": "markdown",
      "metadata": {
        "id": "view-in-github",
        "colab_type": "text"
      },
      "source": [
        "<a href=\"https://colab.research.google.com/github/LM1997610/Fundamentals_DataScience/blob/main/Untitled2.ipynb\" target=\"_parent\"><img src=\"https://colab.research.google.com/assets/colab-badge.svg\" alt=\"Open In Colab\"/></a>"
      ]
    },
    {
      "cell_type": "code",
      "execution_count": 1,
      "metadata": {
        "id": "1NycWiyuytbN"
      },
      "outputs": [],
      "source": [
        "import torch\n",
        "import torch.nn as nn\n",
        "import torch.nn.functional as F\n",
        "import torchvision\n",
        "import torchvision.transforms as transforms"
      ]
    },
    {
      "cell_type": "code",
      "source": [
        "from tqdm.notebook import tqdm\n",
        "import matplotlib.pyplot as plt"
      ],
      "metadata": {
        "id": "WISo-83T_Dd_"
      },
      "execution_count": 2,
      "outputs": []
    },
    {
      "cell_type": "code",
      "source": [
        "from tqdm.auto import tqdm"
      ],
      "metadata": {
        "id": "MjSkXKg_2mlr"
      },
      "execution_count": 3,
      "outputs": []
    },
    {
      "cell_type": "code",
      "source": [
        "#--------------------------------\n",
        "# Hyper-parameters\n",
        "#--------------------------------\n",
        "input_size = 32 * 32 * 3\n",
        "hidden_size = [50]\n",
        "num_classes = 10\n",
        "num_epochs = 25\n",
        "batch_size = 250\n",
        "learning_rate = 0.001\n",
        "learning_rate_decay = 0.95\n",
        "reg=0.009\n",
        "num_training= 45000\n",
        "num_validation =5000\n",
        "train = True"
      ],
      "metadata": {
        "id": "zJWhMaM_-QKv"
      },
      "execution_count": 4,
      "outputs": []
    },
    {
      "cell_type": "code",
      "source": [
        "#-------------------------------------------------\n",
        "# Load the CIFAR-10 dataset\n",
        "#-------------------------------------------------\n",
        "norm_transform = transforms.Compose([transforms.ToTensor(),\n",
        "                                     transforms.Normalize((0.5, 0.5, 0.5), (0.5, 0.5, 0.5))])\n",
        "\n",
        "cifar_dataset = torchvision.datasets.CIFAR10(root='datasets/',\n",
        "                                           train=True,\n",
        "                                           transform=norm_transform,\n",
        "                                           download=True)\n",
        "\n",
        "test_dataset = torchvision.datasets.CIFAR10(root='datasets/',\n",
        "                                          train=False,\n",
        "                                          transform=norm_transform)\n",
        "\n",
        "#-------------------------------------------------\n",
        "# Prepare the training and validation splits\n",
        "#-------------------------------------------------\n",
        "mask = list(range(num_training))\n",
        "train_dataset = torch.utils.data.Subset(cifar_dataset, mask)\n",
        "mask = list(range(num_training, num_training + num_validation))\n",
        "val_dataset = torch.utils.data.Subset(cifar_dataset, mask)\n",
        "\n",
        "#-------------------------------------------------\n",
        "# Data loader\n",
        "#-------------------------------------------------\n",
        "train_loader = torch.utils.data.DataLoader(dataset=train_dataset,\n",
        "                                           batch_size=batch_size,\n",
        "                                           shuffle=True)\n",
        "\n",
        "val_loader = torch.utils.data.DataLoader(dataset=val_dataset,\n",
        "                                           batch_size=batch_size,\n",
        "                                           shuffle=False)\n",
        "\n",
        "test_loader = torch.utils.data.DataLoader(dataset=test_dataset,\n",
        "                                          batch_size=batch_size,\n",
        "                                          shuffle=False)\n",
        "\n",
        "print()\n",
        "print(\" train_dataset: {}\\n val_dataset: {}\\n test_dataset: {}\".format(len(train_dataset),\n",
        "                                                                       len(val_dataset),\n",
        "                                                                       len(test_dataset)))"
      ],
      "metadata": {
        "id": "CJfmSVer9wuZ",
        "outputId": "dd71d0f1-9e1c-4de1-ee77-55c733a0cbcc",
        "colab": {
          "base_uri": "https://localhost:8080/"
        }
      },
      "execution_count": 5,
      "outputs": [
        {
          "output_type": "stream",
          "name": "stdout",
          "text": [
            "Files already downloaded and verified\n",
            "\n",
            " train_dataset: 45000\n",
            " val_dataset: 5000\n",
            " test_dataset: 10000\n"
          ]
        }
      ]
    },
    {
      "cell_type": "code",
      "source": [
        "def weights_init(m):\n",
        "    if type(m) == nn.Linear:\n",
        "        m.weight.data.normal_(0.0, 1e-3)\n",
        "        m.bias.data.fill_(0.)\n",
        "\n",
        "def update_lr(optimizer, lr):\n",
        "    for param_group in optimizer.param_groups:\n",
        "        param_group['lr'] = lr\n",
        "\n",
        "#--------------------------------\n",
        "# Device configuration\n",
        "#--------------------------------\n",
        "device = torch.device('cuda' if torch.cuda.is_available() else 'cpu')\n",
        "print('Using device: %s'%device)\n",
        "\n",
        "#--------------------------------"
      ],
      "metadata": {
        "colab": {
          "base_uri": "https://localhost:8080/"
        },
        "id": "NSkMRyuHyyMr",
        "outputId": "80cc77f4-d5c5-4925-f85e-b40a84169bc1"
      },
      "execution_count": 6,
      "outputs": [
        {
          "output_type": "stream",
          "name": "stdout",
          "text": [
            "Using device: cuda\n"
          ]
        }
      ]
    },
    {
      "cell_type": "code",
      "source": [
        "#======================================================================================\n",
        "# Q4: Implementing multi-layer perceptron in PyTorch\n",
        "#======================================================================================\n",
        "# So far we have implemented a two-layer network using numpy by explicitly\n",
        "# writing down the forward computation and deriving and implementing the\n",
        "# equations for backward computation. This process can be tedious to extend to\n",
        "# large network architectures\n",
        "#\n",
        "# Popular deep-learning libraries like PyTorch and Tensorflow allow us to\n",
        "# quickly implement complicated neural network architectures. They provide\n",
        "# pre-defined layers which can be used as building blocks to define our\n",
        "# network. They also enable automatic-differentiation, which allows us to\n",
        "# define only the forward pass and let the libraries perform back-propagation\n",
        "# using automatic differentiation.\n",
        "#\n",
        "# In this question we will implement a multi-layer perceptron using the PyTorch\n",
        "# library.  Please complete the code for the MultiLayerPerceptron, training and\n",
        "# evaluating the model. Once you can train the two layer model, experiment with\n",
        "# adding more layers and report your observations\n",
        "#--------------------------------------------------------------------------------------\n",
        "\n",
        "#-------------------------------------------------\n",
        "# Fully connected neural network with one hidden layer\n",
        "#-------------------------------------------------\n",
        "\n",
        "class MultiLayerPerceptron(nn.Module):\n",
        "    def __init__(self, input_size, hidden_layers, num_classes):\n",
        "        super(MultiLayerPerceptron, self).__init__()\n",
        "\n",
        "        self.network = nn.Sequential(\n",
        "            nn.Conv2d(3, 32, kernel_size=3, padding=1),             # [32,32,3] --> [32,32,32]\n",
        "            nn.ReLU(),\n",
        "            nn.Conv2d(32, 64, kernel_size=3, padding=1),            # [32,32,32] --> [64,32,32]\n",
        "            nn.ReLU(),\n",
        "            nn.MaxPool2d(2, 2),                                     # [64,32,32] --> [64,16,16]\n",
        "            nn.BatchNorm2d(64),\n",
        "\n",
        "            nn.Conv2d(64, 128, kernel_size=3, padding=1),           # [64,16,16] --> [128,16,16]\n",
        "            nn.ReLU(),\n",
        "            nn.MaxPool2d(2, 2),                                     # [128,16,16] --> [128,8,8]\n",
        "            nn.BatchNorm2d(128),\n",
        "\n",
        "            nn.Conv2d(128, 256, kernel_size=3, padding=1),          # [128,8,8] --> [256,8,8]\n",
        "            nn.ReLU(),\n",
        "            nn.MaxPool2d(2, 2),                                     # [256,8,8] --> [256,4,4]\n",
        "            nn.BatchNorm2d(256),\n",
        "\n",
        "            nn.Flatten(),\n",
        "            nn.Linear(256*4*4, 1024),\n",
        "            nn.ReLU(),\n",
        "            nn.Linear(1024, 512),\n",
        "            nn.ReLU(),\n",
        "            nn.Linear(512, 10))\n",
        "\n",
        "        # Enter the layers into nn.Sequential, so the model may \"see\" them\n",
        "        # Note the use of * in front of layers\n",
        "        #self.layers = nn.Sequential(*layers)\n",
        "\n",
        "    def forward(self, x):\n",
        "\n",
        "        #################################################################################\n",
        "        # TODO: Implement the forward pass computations                                 #\n",
        "        # Note that you do not need to use the softmax operation at the end.            #\n",
        "        # Softmax is only required for the loss computation and the criterion used below#\n",
        "        # nn.CrossEntropyLoss() already integrates the softmax and the log loss together#\n",
        "        #################################################################################\n",
        "\n",
        "        # *****START OF YOUR CODE (DO NOT DELETE/MODIFY THIS LINE)*****\n",
        "\n",
        "        out  = self.network(x)\n",
        "\n",
        "        # *****END OF YOUR CODE (DO NOT DELETE/MODIFY THIS LINE)*****\n",
        "\n",
        "        return out\n"
      ],
      "metadata": {
        "id": "EDKBw2ePy7fY"
      },
      "execution_count": 7,
      "outputs": []
    },
    {
      "cell_type": "code",
      "source": [],
      "metadata": {
        "id": "Pp1mcpJsWncV"
      },
      "execution_count": 7,
      "outputs": []
    },
    {
      "cell_type": "code",
      "source": [
        "model = MultiLayerPerceptron(input_size, hidden_size[0], num_classes).to(device)"
      ],
      "metadata": {
        "id": "QvYAUDD6-wjA"
      },
      "execution_count": 8,
      "outputs": []
    },
    {
      "cell_type": "code",
      "source": [
        "print(\"Model's state_dict:\")\n",
        "\n",
        "for param_tensor in model.state_dict():\n",
        "    print(param_tensor, \"\\t\", model.state_dict()[param_tensor].size())"
      ],
      "metadata": {
        "id": "T2dE19V_8mBP",
        "outputId": "b3e3bfab-1607-4854-adb6-32a67b7e4b82",
        "colab": {
          "base_uri": "https://localhost:8080/"
        }
      },
      "execution_count": 9,
      "outputs": [
        {
          "output_type": "stream",
          "name": "stdout",
          "text": [
            "Model's state_dict:\n",
            "network.0.weight \t torch.Size([32, 3, 3, 3])\n",
            "network.0.bias \t torch.Size([32])\n",
            "network.2.weight \t torch.Size([64, 32, 3, 3])\n",
            "network.2.bias \t torch.Size([64])\n",
            "network.5.weight \t torch.Size([64])\n",
            "network.5.bias \t torch.Size([64])\n",
            "network.5.running_mean \t torch.Size([64])\n",
            "network.5.running_var \t torch.Size([64])\n",
            "network.5.num_batches_tracked \t torch.Size([])\n",
            "network.6.weight \t torch.Size([128, 64, 3, 3])\n",
            "network.6.bias \t torch.Size([128])\n",
            "network.9.weight \t torch.Size([128])\n",
            "network.9.bias \t torch.Size([128])\n",
            "network.9.running_mean \t torch.Size([128])\n",
            "network.9.running_var \t torch.Size([128])\n",
            "network.9.num_batches_tracked \t torch.Size([])\n",
            "network.10.weight \t torch.Size([256, 128, 3, 3])\n",
            "network.10.bias \t torch.Size([256])\n",
            "network.13.weight \t torch.Size([256])\n",
            "network.13.bias \t torch.Size([256])\n",
            "network.13.running_mean \t torch.Size([256])\n",
            "network.13.running_var \t torch.Size([256])\n",
            "network.13.num_batches_tracked \t torch.Size([])\n",
            "network.15.weight \t torch.Size([1024, 4096])\n",
            "network.15.bias \t torch.Size([1024])\n",
            "network.17.weight \t torch.Size([512, 1024])\n",
            "network.17.bias \t torch.Size([512])\n",
            "network.19.weight \t torch.Size([10, 512])\n",
            "network.19.bias \t torch.Size([10])\n"
          ]
        }
      ]
    },
    {
      "cell_type": "code",
      "source": [
        "print(model)"
      ],
      "metadata": {
        "id": "Pr09aJSoBCQy",
        "outputId": "faab611d-0686-49fd-e30c-c166fd4fbc2e",
        "colab": {
          "base_uri": "https://localhost:8080/"
        }
      },
      "execution_count": 10,
      "outputs": [
        {
          "output_type": "stream",
          "name": "stdout",
          "text": [
            "MultiLayerPerceptron(\n",
            "  (network): Sequential(\n",
            "    (0): Conv2d(3, 32, kernel_size=(3, 3), stride=(1, 1), padding=(1, 1))\n",
            "    (1): ReLU()\n",
            "    (2): Conv2d(32, 64, kernel_size=(3, 3), stride=(1, 1), padding=(1, 1))\n",
            "    (3): ReLU()\n",
            "    (4): MaxPool2d(kernel_size=2, stride=2, padding=0, dilation=1, ceil_mode=False)\n",
            "    (5): BatchNorm2d(64, eps=1e-05, momentum=0.1, affine=True, track_running_stats=True)\n",
            "    (6): Conv2d(64, 128, kernel_size=(3, 3), stride=(1, 1), padding=(1, 1))\n",
            "    (7): ReLU()\n",
            "    (8): MaxPool2d(kernel_size=2, stride=2, padding=0, dilation=1, ceil_mode=False)\n",
            "    (9): BatchNorm2d(128, eps=1e-05, momentum=0.1, affine=True, track_running_stats=True)\n",
            "    (10): Conv2d(128, 256, kernel_size=(3, 3), stride=(1, 1), padding=(1, 1))\n",
            "    (11): ReLU()\n",
            "    (12): MaxPool2d(kernel_size=2, stride=2, padding=0, dilation=1, ceil_mode=False)\n",
            "    (13): BatchNorm2d(256, eps=1e-05, momentum=0.1, affine=True, track_running_stats=True)\n",
            "    (14): Flatten(start_dim=1, end_dim=-1)\n",
            "    (15): Linear(in_features=4096, out_features=1024, bias=True)\n",
            "    (16): ReLU()\n",
            "    (17): Linear(in_features=1024, out_features=512, bias=True)\n",
            "    (18): ReLU()\n",
            "    (19): Linear(in_features=512, out_features=10, bias=True)\n",
            "  )\n",
            ")\n"
          ]
        }
      ]
    },
    {
      "cell_type": "code",
      "source": [
        "f = nn.Conv2d(in_channels =3, out_channels = 32, kernel_size = 5)"
      ],
      "metadata": {
        "id": "PNiXDxxwOdOD"
      },
      "execution_count": 11,
      "outputs": []
    },
    {
      "cell_type": "code",
      "source": [],
      "metadata": {
        "id": "sShiJnodOglz"
      },
      "execution_count": 11,
      "outputs": []
    },
    {
      "cell_type": "code",
      "source": [
        "if train:\n",
        "    model.apply(weights_init)\n",
        "    model.train() #set dropout and batch normalization layers to training mode\n",
        "\n",
        "    # Loss and optimizer\n",
        "    criterion = nn.CrossEntropyLoss()\n",
        "    optimizer = torch.optim.Adam(model.parameters(), lr=learning_rate, weight_decay=reg)\n",
        "\n",
        "    # Train the model\n",
        "    lr = learning_rate\n",
        "    total_step = len(train_loader)\n",
        "\n",
        "    loss_history, loss_history_val = [], []\n",
        "    train_acc_history, val_acc_history = [], []\n",
        "\n",
        "    for epoch in tqdm(range(num_epochs)):\n",
        "        correct_train = 0\n",
        "        total_train = 0\n",
        "        for i, (images, labels) in enumerate(train_loader):\n",
        "\n",
        "            # Move tensors to the configured device\n",
        "            images = images.to(device)\n",
        "            labels = labels.to(device)\n",
        "\n",
        "            # *****START OF YOUR CODE (DO NOT DELETE/MODIFY THIS LINE)*****\n",
        "\n",
        "            output = model(images)\n",
        "            _ , pred = torch.max(output, 1)\n",
        "            loss = criterion(output, labels)\n",
        "\n",
        "            optimizer.zero_grad()\n",
        "            loss.backward()\n",
        "            optimizer.step()\n",
        "\n",
        "            total_train += labels.size(0)\n",
        "            correct_train += (pred == labels).sum().item()\n",
        "\n",
        "        t_accuracy = 100 * correct_train / total_train\n",
        "        #print(t_accuracy)\n",
        "\n",
        "\n",
        "\n",
        "        # Code to update the lr\n",
        "        lr *= learning_rate_decay\n",
        "        update_lr(optimizer, lr)\n",
        "        with torch.no_grad():\n",
        "\n",
        "            correct = 0\n",
        "            total = 0\n",
        "\n",
        "            for images, labels in val_loader:\n",
        "                images = images.to(device)\n",
        "                labels = labels.to(device)\n",
        "                # *****START OF YOUR CODE (DO NOT DELETE/MODIFY THIS LINE)*****\n",
        "\n",
        "                output= model(images)\n",
        "                _ , predicted = torch.max(output, 1)\n",
        "                val_loss = criterion(output, labels)\n",
        "\n",
        "                # *****END OF YOUR CODE (DO NOT DELETE/MODIFY THIS LINE)*****\n",
        "                total += labels.size(0)\n",
        "                correct += (predicted == labels).sum().item()\n",
        "\n",
        "        print(f'Epoch [{epoch+1}/{num_epochs}] - Loss: {loss.item():.4f}, val_accuracy = {format(100 * correct / total)} %')\n",
        "\n",
        "        loss_history.append(round(loss.item(), 4))\n",
        "        train_acc_history.append(t_accuracy)\n",
        "        val_acc_history.append(100 * correct / total)\n",
        "        loss_history_val.append(round(val_loss.item(), 4))\n",
        "\n",
        "    stats = {\"loss_history_train\": loss_history, \"loss_history_val\": loss_history_val,\n",
        "            \"train_acc_history\": train_acc_history, \"val_acc_history\": val_acc_history}\n"
      ],
      "metadata": {
        "id": "UYnB0eSc-hj_",
        "outputId": "ece0e852-cddb-4e47-a150-6ea89f09b497",
        "colab": {
          "base_uri": "https://localhost:8080/",
          "height": 483,
          "referenced_widgets": [
            "432c53ae189d4fb4887f388115725c84",
            "56a4878b28944ada948e6e116e9e5815",
            "8d4d24435d654f3a925c4b338be672d7",
            "839c4c99618149e0a00cc905da0b4441",
            "ec03afc23d97495db04c4403440b370f",
            "3a35bbd91531489994c5f72911ab3828",
            "bcde3f9b07de443fae4d9eed22390932",
            "d9fc217502fd4ac28101a583af7df4ac",
            "460194980c374516806b94b2ef6f21cd",
            "1f5a0cff74c2456d94e4ffc0aecdf949",
            "34bce75f1e9c4d5ea8db26def1fa11e9"
          ]
        }
      },
      "execution_count": 12,
      "outputs": [
        {
          "output_type": "display_data",
          "data": {
            "text/plain": [
              "  0%|          | 0/25 [00:00<?, ?it/s]"
            ],
            "application/vnd.jupyter.widget-view+json": {
              "version_major": 2,
              "version_minor": 0,
              "model_id": "432c53ae189d4fb4887f388115725c84"
            }
          },
          "metadata": {}
        },
        {
          "output_type": "stream",
          "name": "stdout",
          "text": [
            "Epoch [1/25] - Loss: 1.0152, val_accuracy = 66.02 %\n",
            "Epoch [2/25] - Loss: 0.7912, val_accuracy = 72.62 %\n",
            "Epoch [3/25] - Loss: 0.6375, val_accuracy = 77.52 %\n",
            "Epoch [4/25] - Loss: 0.6840, val_accuracy = 79.42 %\n",
            "Epoch [5/25] - Loss: 0.5252, val_accuracy = 80.68 %\n",
            "Epoch [6/25] - Loss: 0.4007, val_accuracy = 82.0 %\n",
            "Epoch [7/25] - Loss: 0.4074, val_accuracy = 84.04 %\n",
            "Epoch [8/25] - Loss: 0.3015, val_accuracy = 82.98 %\n",
            "Epoch [9/25] - Loss: 0.2945, val_accuracy = 83.6 %\n",
            "Epoch [10/25] - Loss: 0.3237, val_accuracy = 83.64 %\n",
            "Epoch [11/25] - Loss: 0.2989, val_accuracy = 83.22 %\n",
            "Epoch [12/25] - Loss: 0.2528, val_accuracy = 82.94 %\n",
            "Epoch [13/25] - Loss: 0.2205, val_accuracy = 83.72 %\n",
            "Epoch [14/25] - Loss: 0.1869, val_accuracy = 84.72 %\n",
            "Epoch [15/25] - Loss: 0.1728, val_accuracy = 84.14 %\n",
            "Epoch [16/25] - Loss: 0.1398, val_accuracy = 83.62 %\n",
            "Epoch [17/25] - Loss: 0.1284, val_accuracy = 84.7 %\n",
            "Epoch [18/25] - Loss: 0.1431, val_accuracy = 83.6 %\n",
            "Epoch [19/25] - Loss: 0.0905, val_accuracy = 83.98 %\n",
            "Epoch [20/25] - Loss: 0.0982, val_accuracy = 84.48 %\n",
            "Epoch [21/25] - Loss: 0.0698, val_accuracy = 83.96 %\n",
            "Epoch [22/25] - Loss: 0.0983, val_accuracy = 84.66 %\n",
            "Epoch [23/25] - Loss: 0.0699, val_accuracy = 83.78 %\n",
            "Epoch [24/25] - Loss: 0.0578, val_accuracy = 84.56 %\n",
            "Epoch [25/25] - Loss: 0.0799, val_accuracy = 84.66 %\n"
          ]
        }
      ]
    },
    {
      "cell_type": "code",
      "source": [
        "fig, ax = plt.subplots(2, 1, figsize=(6, 5))\n",
        "\n",
        "ax[0].plot(stats['loss_history_train'], label = \"train\")\n",
        "ax[0].plot(stats['loss_history_val'], label='validation')\n",
        "ax[0].set_title('Loss History', fontsize=14)\n",
        "ax[0].set_xlabel('Iterations\\n')\n",
        "ax[0].set_ylabel('\\nLoss')\n",
        "ax[0].grid(linewidth=0.4)\n",
        "ax[0].legend()\n",
        "\n",
        "ax[1].plot(stats['train_acc_history'], label='train')\n",
        "ax[1].plot(stats['val_acc_history'], label='validation')\n",
        "ax[1].set_title('Classification accuracy history', fontsize=14)\n",
        "ax[1].set_xlabel('Epoch')\n",
        "ax[1].set_ylabel('Classification accuracy')\n",
        "ax[1].grid(linewidth=0.4)\n",
        "ax[1].set_ylim(50,100)\n",
        "ax[1].legend()\n",
        "\n",
        "fig.tight_layout(pad=0.8)\n",
        "plt.show()"
      ],
      "metadata": {
        "id": "mdosojEO2wtX",
        "outputId": "15247393-4f8c-4b6c-ce1f-2fd4dd7b86fe",
        "colab": {
          "base_uri": "https://localhost:8080/",
          "height": 514
        }
      },
      "execution_count": 13,
      "outputs": [
        {
          "output_type": "display_data",
          "data": {
            "text/plain": [
              "<Figure size 600x500 with 2 Axes>"
            ],
            "image/png": "[encoded data removed]"
          },
          "metadata": {}
        }
      ]
    },
    {
      "cell_type": "code",
      "source": [
        "#else:\n",
        "    # Run the test code once you have your by setting train flag to false\n",
        "    # and loading the best model\n",
        "\n",
        "#best_model = None\n",
        "#best_model = torch.load('model.ckpt')\n",
        "#best_model = model\n",
        "\n",
        "#model.load_state_dict(best_model)\n",
        "\n",
        "# Test the model\n",
        "model.eval() #set dropout and batch normalization layers to evaluation mode\n",
        "\n",
        "# In test phase, we don't need to compute gradients (for memory efficiency)\n",
        "with torch.no_grad():\n",
        "    correct = 0\n",
        "    total = 0\n",
        "    for images, labels in test_loader:\n",
        "\n",
        "        images = images.to(device)\n",
        "        labels = labels.to(device)\n",
        "\n",
        "        ####################################################\n",
        "        # TODO: Implement the evaluation code              #\n",
        "        # 1. Pass the images to the model                  #\n",
        "        # 2. Get the most confident predicted class        #\n",
        "        ####################################################\n",
        "        # *****START OF YOUR CODE (DO NOT DELETE/MODIFY THIS LINE)*****\n",
        "\n",
        "\n",
        "        output= model(images)\n",
        "        _ , predicted = torch.max(output, 1)\n",
        "\n",
        "        # *****END OF YOUR CODE (DO NOT DELETE/MODIFY THIS LINE)*****\n",
        "        total += labels.size(0)\n",
        "        correct += (predicted == labels).sum().item()\n",
        "        if total == 1000:\n",
        "            break\n",
        "\n",
        "    print('Accuracy of the network on the {} test images: {} %'.format(total, 100 * correct / total))\n",
        "\n"
      ],
      "metadata": {
        "id": "NxH5AA12NPyV",
        "outputId": "d2236428-dcbb-4442-8cd2-647cc1b32b5f",
        "colab": {
          "base_uri": "https://localhost:8080/"
        }
      },
      "execution_count": 14,
      "outputs": [
        {
          "output_type": "stream",
          "name": "stdout",
          "text": [
            "Accuracy of the network on the 1000 test images: 83.4 %\n"
          ]
        }
      ]
    },
    {
      "cell_type": "code",
      "source": [],
      "metadata": {
        "id": "g-KVmkEHTKyX"
      },
      "execution_count": 14,
      "outputs": []
    }
  ]
}