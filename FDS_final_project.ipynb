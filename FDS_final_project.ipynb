{
 "cells": [
  {
   "cell_type": "markdown",
   "metadata": {},
   "source": [
    "# Final Project: Stellar Classification: Explore Features Engineering"
   ]
  },
  {
   "cell_type": "markdown",
   "metadata": {},
   "source": [
    "## Exploring Data"
   ]
  },
  {
   "cell_type": "code",
   "execution_count": 1,
   "metadata": {},
   "outputs": [],
   "source": [
    "#import needed libraries\n",
    "import pandas as pd\n",
    "import numpy as np \n",
    "from matplotlib import pyplot as plt\n",
    "from tqdm import tqdm\n",
    "from fast_ml.model_development import train_valid_test_split\n",
    "from collections import Counter\n",
    "from imblearn.under_sampling import RandomUnderSampler\n",
    "from imblearn.over_sampling import RandomOverSampler\n",
    "from imblearn.metrics import classification_report_imbalanced\n",
    "\n",
    "from sklearn.decomposition import PCA\n",
    "from sklearn.neighbors import KNeighborsClassifier\n",
    "\n",
    "from sklearn import preprocessing\n",
    "from sklearn.preprocessing import LabelBinarizer\n",
    "from sklearn.preprocessing import StandardScaler\n",
    "\n",
    "from sklearn import linear_model\n",
    "from sklearn.linear_model import LogisticRegression\n",
    "\n",
    "from sklearn import metrics\n",
    "from sklearn.metrics import balanced_accuracy_score\n",
    "from sklearn.metrics import auc\n",
    "from sklearn.metrics import accuracy_score\n",
    "from sklearn.metrics import confusion_matrix\n",
    "from sklearn.metrics import classification_report\n",
    "from sklearn.metrics import roc_curve, auc\n",
    "from sklearn.metrics import RocCurveDisplay\n",
    "\n",
    "from itertools import cycle\n",
    "\n",
    "import matplotlib\n",
    "\n",
    "import seaborn as sns\n",
    "\n",
    "import statsmodels.api as sm"
   ]
  },
  {
   "cell_type": "code",
   "execution_count": 2,
   "metadata": {},
   "outputs": [
    {
     "data": {
      "text/html": [
       "<div>\n",
       "<style scoped>\n",
       "    .dataframe tbody tr th:only-of-type {\n",
       "        vertical-align: middle;\n",
       "    }\n",
       "\n",
       "    .dataframe tbody tr th {\n",
       "        vertical-align: top;\n",
       "    }\n",
       "\n",
       "    .dataframe thead th {\n",
       "        text-align: right;\n",
       "    }\n",
       "</style>\n",
       "<table border=\"1\" class=\"dataframe\">\n",
       "  <thead>\n",
       "    <tr style=\"text-align: right;\">\n",
       "      <th></th>\n",
       "      <th>obj_ID</th>\n",
       "      <th>alpha</th>\n",
       "      <th>delta</th>\n",
       "      <th>u</th>\n",
       "      <th>g</th>\n",
       "      <th>r</th>\n",
       "      <th>i</th>\n",
       "      <th>z</th>\n",
       "      <th>run_ID</th>\n",
       "      <th>rerun_ID</th>\n",
       "      <th>cam_col</th>\n",
       "      <th>field_ID</th>\n",
       "      <th>spec_obj_ID</th>\n",
       "      <th>class</th>\n",
       "      <th>redshift</th>\n",
       "      <th>plate</th>\n",
       "      <th>MJD</th>\n",
       "      <th>fiber_ID</th>\n",
       "    </tr>\n",
       "  </thead>\n",
       "  <tbody>\n",
       "    <tr>\n",
       "      <th>0</th>\n",
       "      <td>1.237661e+18</td>\n",
       "      <td>135.689107</td>\n",
       "      <td>32.494632</td>\n",
       "      <td>23.87882</td>\n",
       "      <td>22.27530</td>\n",
       "      <td>20.39501</td>\n",
       "      <td>19.16573</td>\n",
       "      <td>18.79371</td>\n",
       "      <td>3606</td>\n",
       "      <td>301</td>\n",
       "      <td>2</td>\n",
       "      <td>79</td>\n",
       "      <td>6.543777e+18</td>\n",
       "      <td>GALAXY</td>\n",
       "      <td>0.634794</td>\n",
       "      <td>5812</td>\n",
       "      <td>56354</td>\n",
       "      <td>171</td>\n",
       "    </tr>\n",
       "    <tr>\n",
       "      <th>1</th>\n",
       "      <td>1.237665e+18</td>\n",
       "      <td>144.826101</td>\n",
       "      <td>31.274185</td>\n",
       "      <td>24.77759</td>\n",
       "      <td>22.83188</td>\n",
       "      <td>22.58444</td>\n",
       "      <td>21.16812</td>\n",
       "      <td>21.61427</td>\n",
       "      <td>4518</td>\n",
       "      <td>301</td>\n",
       "      <td>5</td>\n",
       "      <td>119</td>\n",
       "      <td>1.176014e+19</td>\n",
       "      <td>GALAXY</td>\n",
       "      <td>0.779136</td>\n",
       "      <td>10445</td>\n",
       "      <td>58158</td>\n",
       "      <td>427</td>\n",
       "    </tr>\n",
       "    <tr>\n",
       "      <th>2</th>\n",
       "      <td>1.237661e+18</td>\n",
       "      <td>142.188790</td>\n",
       "      <td>35.582444</td>\n",
       "      <td>25.26307</td>\n",
       "      <td>22.66389</td>\n",
       "      <td>20.60976</td>\n",
       "      <td>19.34857</td>\n",
       "      <td>18.94827</td>\n",
       "      <td>3606</td>\n",
       "      <td>301</td>\n",
       "      <td>2</td>\n",
       "      <td>120</td>\n",
       "      <td>5.152200e+18</td>\n",
       "      <td>GALAXY</td>\n",
       "      <td>0.644195</td>\n",
       "      <td>4576</td>\n",
       "      <td>55592</td>\n",
       "      <td>299</td>\n",
       "    </tr>\n",
       "    <tr>\n",
       "      <th>3</th>\n",
       "      <td>1.237663e+18</td>\n",
       "      <td>338.741038</td>\n",
       "      <td>-0.402828</td>\n",
       "      <td>22.13682</td>\n",
       "      <td>23.77656</td>\n",
       "      <td>21.61162</td>\n",
       "      <td>20.50454</td>\n",
       "      <td>19.25010</td>\n",
       "      <td>4192</td>\n",
       "      <td>301</td>\n",
       "      <td>3</td>\n",
       "      <td>214</td>\n",
       "      <td>1.030107e+19</td>\n",
       "      <td>GALAXY</td>\n",
       "      <td>0.932346</td>\n",
       "      <td>9149</td>\n",
       "      <td>58039</td>\n",
       "      <td>775</td>\n",
       "    </tr>\n",
       "    <tr>\n",
       "      <th>4</th>\n",
       "      <td>1.237680e+18</td>\n",
       "      <td>345.282593</td>\n",
       "      <td>21.183866</td>\n",
       "      <td>19.43718</td>\n",
       "      <td>17.58028</td>\n",
       "      <td>16.49747</td>\n",
       "      <td>15.97711</td>\n",
       "      <td>15.54461</td>\n",
       "      <td>8102</td>\n",
       "      <td>301</td>\n",
       "      <td>3</td>\n",
       "      <td>137</td>\n",
       "      <td>6.891865e+18</td>\n",
       "      <td>GALAXY</td>\n",
       "      <td>0.116123</td>\n",
       "      <td>6121</td>\n",
       "      <td>56187</td>\n",
       "      <td>842</td>\n",
       "    </tr>\n",
       "    <tr>\n",
       "      <th>...</th>\n",
       "      <td>...</td>\n",
       "      <td>...</td>\n",
       "      <td>...</td>\n",
       "      <td>...</td>\n",
       "      <td>...</td>\n",
       "      <td>...</td>\n",
       "      <td>...</td>\n",
       "      <td>...</td>\n",
       "      <td>...</td>\n",
       "      <td>...</td>\n",
       "      <td>...</td>\n",
       "      <td>...</td>\n",
       "      <td>...</td>\n",
       "      <td>...</td>\n",
       "      <td>...</td>\n",
       "      <td>...</td>\n",
       "      <td>...</td>\n",
       "      <td>...</td>\n",
       "    </tr>\n",
       "    <tr>\n",
       "      <th>99994</th>\n",
       "      <td>1.237679e+18</td>\n",
       "      <td>39.620709</td>\n",
       "      <td>-2.594074</td>\n",
       "      <td>22.16759</td>\n",
       "      <td>22.97586</td>\n",
       "      <td>21.90404</td>\n",
       "      <td>21.30548</td>\n",
       "      <td>20.73569</td>\n",
       "      <td>7778</td>\n",
       "      <td>301</td>\n",
       "      <td>2</td>\n",
       "      <td>581</td>\n",
       "      <td>1.055431e+19</td>\n",
       "      <td>GALAXY</td>\n",
       "      <td>0.000000</td>\n",
       "      <td>9374</td>\n",
       "      <td>57749</td>\n",
       "      <td>438</td>\n",
       "    </tr>\n",
       "    <tr>\n",
       "      <th>99995</th>\n",
       "      <td>1.237679e+18</td>\n",
       "      <td>29.493819</td>\n",
       "      <td>19.798874</td>\n",
       "      <td>22.69118</td>\n",
       "      <td>22.38628</td>\n",
       "      <td>20.45003</td>\n",
       "      <td>19.75759</td>\n",
       "      <td>19.41526</td>\n",
       "      <td>7917</td>\n",
       "      <td>301</td>\n",
       "      <td>1</td>\n",
       "      <td>289</td>\n",
       "      <td>8.586351e+18</td>\n",
       "      <td>GALAXY</td>\n",
       "      <td>0.404895</td>\n",
       "      <td>7626</td>\n",
       "      <td>56934</td>\n",
       "      <td>866</td>\n",
       "    </tr>\n",
       "    <tr>\n",
       "      <th>99996</th>\n",
       "      <td>1.237668e+18</td>\n",
       "      <td>224.587407</td>\n",
       "      <td>15.700707</td>\n",
       "      <td>21.16916</td>\n",
       "      <td>19.26997</td>\n",
       "      <td>18.20428</td>\n",
       "      <td>17.69034</td>\n",
       "      <td>17.35221</td>\n",
       "      <td>5314</td>\n",
       "      <td>301</td>\n",
       "      <td>4</td>\n",
       "      <td>308</td>\n",
       "      <td>3.112008e+18</td>\n",
       "      <td>GALAXY</td>\n",
       "      <td>0.143366</td>\n",
       "      <td>2764</td>\n",
       "      <td>54535</td>\n",
       "      <td>74</td>\n",
       "    </tr>\n",
       "    <tr>\n",
       "      <th>99997</th>\n",
       "      <td>1.237661e+18</td>\n",
       "      <td>212.268621</td>\n",
       "      <td>46.660365</td>\n",
       "      <td>25.35039</td>\n",
       "      <td>21.63757</td>\n",
       "      <td>19.91386</td>\n",
       "      <td>19.07254</td>\n",
       "      <td>18.62482</td>\n",
       "      <td>3650</td>\n",
       "      <td>301</td>\n",
       "      <td>4</td>\n",
       "      <td>131</td>\n",
       "      <td>7.601080e+18</td>\n",
       "      <td>GALAXY</td>\n",
       "      <td>0.455040</td>\n",
       "      <td>6751</td>\n",
       "      <td>56368</td>\n",
       "      <td>470</td>\n",
       "    </tr>\n",
       "    <tr>\n",
       "      <th>99998</th>\n",
       "      <td>1.237661e+18</td>\n",
       "      <td>196.896053</td>\n",
       "      <td>49.464643</td>\n",
       "      <td>22.62171</td>\n",
       "      <td>21.79745</td>\n",
       "      <td>20.60115</td>\n",
       "      <td>20.00959</td>\n",
       "      <td>19.28075</td>\n",
       "      <td>3650</td>\n",
       "      <td>301</td>\n",
       "      <td>4</td>\n",
       "      <td>60</td>\n",
       "      <td>8.343152e+18</td>\n",
       "      <td>GALAXY</td>\n",
       "      <td>0.542944</td>\n",
       "      <td>7410</td>\n",
       "      <td>57104</td>\n",
       "      <td>851</td>\n",
       "    </tr>\n",
       "  </tbody>\n",
       "</table>\n",
       "<p>99999 rows × 18 columns</p>\n",
       "</div>"
      ],
      "text/plain": [
       "             obj_ID       alpha      delta         u         g         r  \\\n",
       "0      1.237661e+18  135.689107  32.494632  23.87882  22.27530  20.39501   \n",
       "1      1.237665e+18  144.826101  31.274185  24.77759  22.83188  22.58444   \n",
       "2      1.237661e+18  142.188790  35.582444  25.26307  22.66389  20.60976   \n",
       "3      1.237663e+18  338.741038  -0.402828  22.13682  23.77656  21.61162   \n",
       "4      1.237680e+18  345.282593  21.183866  19.43718  17.58028  16.49747   \n",
       "...             ...         ...        ...       ...       ...       ...   \n",
       "99994  1.237679e+18   39.620709  -2.594074  22.16759  22.97586  21.90404   \n",
       "99995  1.237679e+18   29.493819  19.798874  22.69118  22.38628  20.45003   \n",
       "99996  1.237668e+18  224.587407  15.700707  21.16916  19.26997  18.20428   \n",
       "99997  1.237661e+18  212.268621  46.660365  25.35039  21.63757  19.91386   \n",
       "99998  1.237661e+18  196.896053  49.464643  22.62171  21.79745  20.60115   \n",
       "\n",
       "              i         z  run_ID  rerun_ID  cam_col  field_ID   spec_obj_ID  \\\n",
       "0      19.16573  18.79371    3606       301        2        79  6.543777e+18   \n",
       "1      21.16812  21.61427    4518       301        5       119  1.176014e+19   \n",
       "2      19.34857  18.94827    3606       301        2       120  5.152200e+18   \n",
       "3      20.50454  19.25010    4192       301        3       214  1.030107e+19   \n",
       "4      15.97711  15.54461    8102       301        3       137  6.891865e+18   \n",
       "...         ...       ...     ...       ...      ...       ...           ...   \n",
       "99994  21.30548  20.73569    7778       301        2       581  1.055431e+19   \n",
       "99995  19.75759  19.41526    7917       301        1       289  8.586351e+18   \n",
       "99996  17.69034  17.35221    5314       301        4       308  3.112008e+18   \n",
       "99997  19.07254  18.62482    3650       301        4       131  7.601080e+18   \n",
       "99998  20.00959  19.28075    3650       301        4        60  8.343152e+18   \n",
       "\n",
       "        class  redshift  plate    MJD  fiber_ID  \n",
       "0      GALAXY  0.634794   5812  56354       171  \n",
       "1      GALAXY  0.779136  10445  58158       427  \n",
       "2      GALAXY  0.644195   4576  55592       299  \n",
       "3      GALAXY  0.932346   9149  58039       775  \n",
       "4      GALAXY  0.116123   6121  56187       842  \n",
       "...       ...       ...    ...    ...       ...  \n",
       "99994  GALAXY  0.000000   9374  57749       438  \n",
       "99995  GALAXY  0.404895   7626  56934       866  \n",
       "99996  GALAXY  0.143366   2764  54535        74  \n",
       "99997  GALAXY  0.455040   6751  56368       470  \n",
       "99998  GALAXY  0.542944   7410  57104       851  \n",
       "\n",
       "[99999 rows x 18 columns]"
      ]
     },
     "execution_count": 2,
     "metadata": {},
     "output_type": "execute_result"
    }
   ],
   "source": [
    "df = pd.read_csv(\"star_classification.csv\")\n",
    "df.drop(index=79543, inplace=True)\n",
    "df.reset_index(drop=True, inplace=True)\n",
    "df"
   ]
  },
  {
   "cell_type": "code",
   "execution_count": 3,
   "metadata": {},
   "outputs": [
    {
     "data": {
      "text/plain": [
       "Counter({'GALAXY': 59445, 'QSO': 18961, 'STAR': 21593})"
      ]
     },
     "execution_count": 3,
     "metadata": {},
     "output_type": "execute_result"
    }
   ],
   "source": [
    "Counter(df['class'])"
   ]
  },
  {
   "cell_type": "code",
   "execution_count": 4,
   "metadata": {},
   "outputs": [
    {
     "data": {
      "text/plain": [
       "dict_values([59445, 18961, 21593])"
      ]
     },
     "execution_count": 4,
     "metadata": {},
     "output_type": "execute_result"
    }
   ],
   "source": [
    "dict(Counter(df['class'])).values()"
   ]
  },
  {
   "cell_type": "code",
   "execution_count": 5,
   "metadata": {},
   "outputs": [
    {
     "data": {
      "image/png": "[encoded data removed]",
      "text/plain": [
       "<Figure size 432x288 with 1 Axes>"
      ]
     },
     "metadata": {
      "needs_background": "light"
     },
     "output_type": "display_data"
    }
   ],
   "source": [
    "# create dataset\n",
    "height = dict(Counter(df['class'])).values()\n",
    "bars = ('GALAXY','QUASAR', 'STAR')\n",
    "y_pos = np.arange(len(bars))\n",
    "\n",
    "plt.barh(y_pos, height)\n",
    "\n",
    "plt.yticks(y_pos, bars)\n",
    "plt.show()"
   ]
  },
  {
   "cell_type": "code",
   "execution_count": 6,
   "metadata": {},
   "outputs": [
    {
     "data": {
      "text/html": [
       "<div>\n",
       "<style scoped>\n",
       "    .dataframe tbody tr th:only-of-type {\n",
       "        vertical-align: middle;\n",
       "    }\n",
       "\n",
       "    .dataframe tbody tr th {\n",
       "        vertical-align: top;\n",
       "    }\n",
       "\n",
       "    .dataframe thead th {\n",
       "        text-align: right;\n",
       "    }\n",
       "</style>\n",
       "<table border=\"1\" class=\"dataframe\">\n",
       "  <thead>\n",
       "    <tr style=\"text-align: right;\">\n",
       "      <th></th>\n",
       "      <th>u</th>\n",
       "      <th>g</th>\n",
       "      <th>r</th>\n",
       "      <th>i</th>\n",
       "      <th>z</th>\n",
       "      <th>redshift</th>\n",
       "      <th>class</th>\n",
       "    </tr>\n",
       "  </thead>\n",
       "  <tbody>\n",
       "    <tr>\n",
       "      <th>0</th>\n",
       "      <td>23.87882</td>\n",
       "      <td>22.27530</td>\n",
       "      <td>20.39501</td>\n",
       "      <td>19.16573</td>\n",
       "      <td>18.79371</td>\n",
       "      <td>0.634794</td>\n",
       "      <td>GALAXY</td>\n",
       "    </tr>\n",
       "    <tr>\n",
       "      <th>1</th>\n",
       "      <td>24.77759</td>\n",
       "      <td>22.83188</td>\n",
       "      <td>22.58444</td>\n",
       "      <td>21.16812</td>\n",
       "      <td>21.61427</td>\n",
       "      <td>0.779136</td>\n",
       "      <td>GALAXY</td>\n",
       "    </tr>\n",
       "    <tr>\n",
       "      <th>2</th>\n",
       "      <td>25.26307</td>\n",
       "      <td>22.66389</td>\n",
       "      <td>20.60976</td>\n",
       "      <td>19.34857</td>\n",
       "      <td>18.94827</td>\n",
       "      <td>0.644195</td>\n",
       "      <td>GALAXY</td>\n",
       "    </tr>\n",
       "    <tr>\n",
       "      <th>3</th>\n",
       "      <td>22.13682</td>\n",
       "      <td>23.77656</td>\n",
       "      <td>21.61162</td>\n",
       "      <td>20.50454</td>\n",
       "      <td>19.25010</td>\n",
       "      <td>0.932346</td>\n",
       "      <td>GALAXY</td>\n",
       "    </tr>\n",
       "    <tr>\n",
       "      <th>4</th>\n",
       "      <td>19.43718</td>\n",
       "      <td>17.58028</td>\n",
       "      <td>16.49747</td>\n",
       "      <td>15.97711</td>\n",
       "      <td>15.54461</td>\n",
       "      <td>0.116123</td>\n",
       "      <td>GALAXY</td>\n",
       "    </tr>\n",
       "    <tr>\n",
       "      <th>...</th>\n",
       "      <td>...</td>\n",
       "      <td>...</td>\n",
       "      <td>...</td>\n",
       "      <td>...</td>\n",
       "      <td>...</td>\n",
       "      <td>...</td>\n",
       "      <td>...</td>\n",
       "    </tr>\n",
       "    <tr>\n",
       "      <th>99994</th>\n",
       "      <td>22.16759</td>\n",
       "      <td>22.97586</td>\n",
       "      <td>21.90404</td>\n",
       "      <td>21.30548</td>\n",
       "      <td>20.73569</td>\n",
       "      <td>0.000000</td>\n",
       "      <td>GALAXY</td>\n",
       "    </tr>\n",
       "    <tr>\n",
       "      <th>99995</th>\n",
       "      <td>22.69118</td>\n",
       "      <td>22.38628</td>\n",
       "      <td>20.45003</td>\n",
       "      <td>19.75759</td>\n",
       "      <td>19.41526</td>\n",
       "      <td>0.404895</td>\n",
       "      <td>GALAXY</td>\n",
       "    </tr>\n",
       "    <tr>\n",
       "      <th>99996</th>\n",
       "      <td>21.16916</td>\n",
       "      <td>19.26997</td>\n",
       "      <td>18.20428</td>\n",
       "      <td>17.69034</td>\n",
       "      <td>17.35221</td>\n",
       "      <td>0.143366</td>\n",
       "      <td>GALAXY</td>\n",
       "    </tr>\n",
       "    <tr>\n",
       "      <th>99997</th>\n",
       "      <td>25.35039</td>\n",
       "      <td>21.63757</td>\n",
       "      <td>19.91386</td>\n",
       "      <td>19.07254</td>\n",
       "      <td>18.62482</td>\n",
       "      <td>0.455040</td>\n",
       "      <td>GALAXY</td>\n",
       "    </tr>\n",
       "    <tr>\n",
       "      <th>99998</th>\n",
       "      <td>22.62171</td>\n",
       "      <td>21.79745</td>\n",
       "      <td>20.60115</td>\n",
       "      <td>20.00959</td>\n",
       "      <td>19.28075</td>\n",
       "      <td>0.542944</td>\n",
       "      <td>GALAXY</td>\n",
       "    </tr>\n",
       "  </tbody>\n",
       "</table>\n",
       "<p>99999 rows × 7 columns</p>\n",
       "</div>"
      ],
      "text/plain": [
       "              u         g         r         i         z  redshift   class\n",
       "0      23.87882  22.27530  20.39501  19.16573  18.79371  0.634794  GALAXY\n",
       "1      24.77759  22.83188  22.58444  21.16812  21.61427  0.779136  GALAXY\n",
       "2      25.26307  22.66389  20.60976  19.34857  18.94827  0.644195  GALAXY\n",
       "3      22.13682  23.77656  21.61162  20.50454  19.25010  0.932346  GALAXY\n",
       "4      19.43718  17.58028  16.49747  15.97711  15.54461  0.116123  GALAXY\n",
       "...         ...       ...       ...       ...       ...       ...     ...\n",
       "99994  22.16759  22.97586  21.90404  21.30548  20.73569  0.000000  GALAXY\n",
       "99995  22.69118  22.38628  20.45003  19.75759  19.41526  0.404895  GALAXY\n",
       "99996  21.16916  19.26997  18.20428  17.69034  17.35221  0.143366  GALAXY\n",
       "99997  25.35039  21.63757  19.91386  19.07254  18.62482  0.455040  GALAXY\n",
       "99998  22.62171  21.79745  20.60115  20.00959  19.28075  0.542944  GALAXY\n",
       "\n",
       "[99999 rows x 7 columns]"
      ]
     },
     "execution_count": 6,
     "metadata": {},
     "output_type": "execute_result"
    }
   ],
   "source": [
    "stellar_df = df[['u','g','r','i','z','redshift','class']]\n",
    "stellar_df"
   ]
  },
  {
   "cell_type": "code",
   "execution_count": 7,
   "metadata": {},
   "outputs": [
    {
     "data": {
      "text/html": [
       "<div>\n",
       "<style scoped>\n",
       "    .dataframe tbody tr th:only-of-type {\n",
       "        vertical-align: middle;\n",
       "    }\n",
       "\n",
       "    .dataframe tbody tr th {\n",
       "        vertical-align: top;\n",
       "    }\n",
       "\n",
       "    .dataframe thead th {\n",
       "        text-align: right;\n",
       "    }\n",
       "</style>\n",
       "<table border=\"1\" class=\"dataframe\">\n",
       "  <thead>\n",
       "    <tr style=\"text-align: right;\">\n",
       "      <th></th>\n",
       "      <th>u</th>\n",
       "      <th>g</th>\n",
       "      <th>r</th>\n",
       "      <th>i</th>\n",
       "      <th>z</th>\n",
       "      <th>redshift</th>\n",
       "    </tr>\n",
       "  </thead>\n",
       "  <tbody>\n",
       "    <tr>\n",
       "      <th>0</th>\n",
       "      <td>23.87882</td>\n",
       "      <td>22.27530</td>\n",
       "      <td>20.39501</td>\n",
       "      <td>19.16573</td>\n",
       "      <td>18.79371</td>\n",
       "      <td>0.634794</td>\n",
       "    </tr>\n",
       "    <tr>\n",
       "      <th>1</th>\n",
       "      <td>24.77759</td>\n",
       "      <td>22.83188</td>\n",
       "      <td>22.58444</td>\n",
       "      <td>21.16812</td>\n",
       "      <td>21.61427</td>\n",
       "      <td>0.779136</td>\n",
       "    </tr>\n",
       "    <tr>\n",
       "      <th>2</th>\n",
       "      <td>25.26307</td>\n",
       "      <td>22.66389</td>\n",
       "      <td>20.60976</td>\n",
       "      <td>19.34857</td>\n",
       "      <td>18.94827</td>\n",
       "      <td>0.644195</td>\n",
       "    </tr>\n",
       "    <tr>\n",
       "      <th>3</th>\n",
       "      <td>22.13682</td>\n",
       "      <td>23.77656</td>\n",
       "      <td>21.61162</td>\n",
       "      <td>20.50454</td>\n",
       "      <td>19.25010</td>\n",
       "      <td>0.932346</td>\n",
       "    </tr>\n",
       "    <tr>\n",
       "      <th>4</th>\n",
       "      <td>19.43718</td>\n",
       "      <td>17.58028</td>\n",
       "      <td>16.49747</td>\n",
       "      <td>15.97711</td>\n",
       "      <td>15.54461</td>\n",
       "      <td>0.116123</td>\n",
       "    </tr>\n",
       "    <tr>\n",
       "      <th>...</th>\n",
       "      <td>...</td>\n",
       "      <td>...</td>\n",
       "      <td>...</td>\n",
       "      <td>...</td>\n",
       "      <td>...</td>\n",
       "      <td>...</td>\n",
       "    </tr>\n",
       "    <tr>\n",
       "      <th>99994</th>\n",
       "      <td>22.16759</td>\n",
       "      <td>22.97586</td>\n",
       "      <td>21.90404</td>\n",
       "      <td>21.30548</td>\n",
       "      <td>20.73569</td>\n",
       "      <td>0.000000</td>\n",
       "    </tr>\n",
       "    <tr>\n",
       "      <th>99995</th>\n",
       "      <td>22.69118</td>\n",
       "      <td>22.38628</td>\n",
       "      <td>20.45003</td>\n",
       "      <td>19.75759</td>\n",
       "      <td>19.41526</td>\n",
       "      <td>0.404895</td>\n",
       "    </tr>\n",
       "    <tr>\n",
       "      <th>99996</th>\n",
       "      <td>21.16916</td>\n",
       "      <td>19.26997</td>\n",
       "      <td>18.20428</td>\n",
       "      <td>17.69034</td>\n",
       "      <td>17.35221</td>\n",
       "      <td>0.143366</td>\n",
       "    </tr>\n",
       "    <tr>\n",
       "      <th>99997</th>\n",
       "      <td>25.35039</td>\n",
       "      <td>21.63757</td>\n",
       "      <td>19.91386</td>\n",
       "      <td>19.07254</td>\n",
       "      <td>18.62482</td>\n",
       "      <td>0.455040</td>\n",
       "    </tr>\n",
       "    <tr>\n",
       "      <th>99998</th>\n",
       "      <td>22.62171</td>\n",
       "      <td>21.79745</td>\n",
       "      <td>20.60115</td>\n",
       "      <td>20.00959</td>\n",
       "      <td>19.28075</td>\n",
       "      <td>0.542944</td>\n",
       "    </tr>\n",
       "  </tbody>\n",
       "</table>\n",
       "<p>99999 rows × 6 columns</p>\n",
       "</div>"
      ],
      "text/plain": [
       "              u         g         r         i         z  redshift\n",
       "0      23.87882  22.27530  20.39501  19.16573  18.79371  0.634794\n",
       "1      24.77759  22.83188  22.58444  21.16812  21.61427  0.779136\n",
       "2      25.26307  22.66389  20.60976  19.34857  18.94827  0.644195\n",
       "3      22.13682  23.77656  21.61162  20.50454  19.25010  0.932346\n",
       "4      19.43718  17.58028  16.49747  15.97711  15.54461  0.116123\n",
       "...         ...       ...       ...       ...       ...       ...\n",
       "99994  22.16759  22.97586  21.90404  21.30548  20.73569  0.000000\n",
       "99995  22.69118  22.38628  20.45003  19.75759  19.41526  0.404895\n",
       "99996  21.16916  19.26997  18.20428  17.69034  17.35221  0.143366\n",
       "99997  25.35039  21.63757  19.91386  19.07254  18.62482  0.455040\n",
       "99998  22.62171  21.79745  20.60115  20.00959  19.28075  0.542944\n",
       "\n",
       "[99999 rows x 6 columns]"
      ]
     },
     "execution_count": 7,
     "metadata": {},
     "output_type": "execute_result"
    }
   ],
   "source": [
    "stellar_dfapp = df[['u','g','r','i','z','redshift']]\n",
    "stellar_dfapp"
   ]
  },
  {
   "cell_type": "code",
   "execution_count": 8,
   "metadata": {},
   "outputs": [
    {
     "data": {
      "image/png": "[encoded data removed]",
      "text/plain": [
       "<Figure size 720x720 with 2 Axes>"
      ]
     },
     "metadata": {},
     "output_type": "display_data"
    }
   ],
   "source": [
    "sns.set(rc={'figure.figsize':(10,10)})\n",
    "plot_ = sns.heatmap(stellar_dfapp.corr(), xticklabels=stellar_dfapp.columns, yticklabels=stellar_dfapp.columns, cmap = \"rocket_r\")\n",
    "plot_.set(title='Correlation between features')\n",
    "plt.show()"
   ]
  },
  {
   "cell_type": "code",
   "execution_count": 9,
   "metadata": {},
   "outputs": [],
   "source": [
    "tempdf = stellar_df.drop(['class'], axis=1)"
   ]
  },
  {
   "cell_type": "code",
   "execution_count": 10,
   "metadata": {},
   "outputs": [],
   "source": [
    "stellar_df.sort_index(inplace=True)\n",
    "tempdf.sort_index(inplace=True)"
   ]
  },
  {
   "cell_type": "code",
   "execution_count": 11,
   "metadata": {},
   "outputs": [
    {
     "data": {
      "text/html": [
       "<div>\n",
       "<style scoped>\n",
       "    .dataframe tbody tr th:only-of-type {\n",
       "        vertical-align: middle;\n",
       "    }\n",
       "\n",
       "    .dataframe tbody tr th {\n",
       "        vertical-align: top;\n",
       "    }\n",
       "\n",
       "    .dataframe thead th {\n",
       "        text-align: right;\n",
       "    }\n",
       "</style>\n",
       "<table border=\"1\" class=\"dataframe\">\n",
       "  <thead>\n",
       "    <tr style=\"text-align: right;\">\n",
       "      <th></th>\n",
       "      <th>u</th>\n",
       "      <th>g</th>\n",
       "      <th>r</th>\n",
       "      <th>i</th>\n",
       "      <th>z</th>\n",
       "      <th>redshift</th>\n",
       "      <th>class</th>\n",
       "    </tr>\n",
       "  </thead>\n",
       "  <tbody>\n",
       "    <tr>\n",
       "      <th>0</th>\n",
       "      <td>0.591347</td>\n",
       "      <td>0.558050</td>\n",
       "      <td>0.535344</td>\n",
       "      <td>0.427665</td>\n",
       "      <td>0.464377</td>\n",
       "      <td>0.091831</td>\n",
       "      <td>GALAXY</td>\n",
       "    </tr>\n",
       "    <tr>\n",
       "      <th>1</th>\n",
       "      <td>0.632603</td>\n",
       "      <td>0.584423</td>\n",
       "      <td>0.646203</td>\n",
       "      <td>0.515986</td>\n",
       "      <td>0.607035</td>\n",
       "      <td>0.112389</td>\n",
       "      <td>GALAXY</td>\n",
       "    </tr>\n",
       "    <tr>\n",
       "      <th>2</th>\n",
       "      <td>0.654888</td>\n",
       "      <td>0.576463</td>\n",
       "      <td>0.546218</td>\n",
       "      <td>0.435729</td>\n",
       "      <td>0.472194</td>\n",
       "      <td>0.093170</td>\n",
       "      <td>GALAXY</td>\n",
       "    </tr>\n",
       "    <tr>\n",
       "      <th>3</th>\n",
       "      <td>0.511384</td>\n",
       "      <td>0.629186</td>\n",
       "      <td>0.596946</td>\n",
       "      <td>0.486717</td>\n",
       "      <td>0.487460</td>\n",
       "      <td>0.134210</td>\n",
       "      <td>GALAXY</td>\n",
       "    </tr>\n",
       "    <tr>\n",
       "      <th>4</th>\n",
       "      <td>0.387463</td>\n",
       "      <td>0.335579</td>\n",
       "      <td>0.337999</td>\n",
       "      <td>0.287021</td>\n",
       "      <td>0.300043</td>\n",
       "      <td>0.017959</td>\n",
       "      <td>GALAXY</td>\n",
       "    </tr>\n",
       "  </tbody>\n",
       "</table>\n",
       "</div>"
      ],
      "text/plain": [
       "          u         g         r         i         z  redshift   class\n",
       "0  0.591347  0.558050  0.535344  0.427665  0.464377  0.091831  GALAXY\n",
       "1  0.632603  0.584423  0.646203  0.515986  0.607035  0.112389  GALAXY\n",
       "2  0.654888  0.576463  0.546218  0.435729  0.472194  0.093170  GALAXY\n",
       "3  0.511384  0.629186  0.596946  0.486717  0.487460  0.134210  GALAXY\n",
       "4  0.387463  0.335579  0.337999  0.287021  0.300043  0.017959  GALAXY"
      ]
     },
     "execution_count": 11,
     "metadata": {},
     "output_type": "execute_result"
    }
   ],
   "source": [
    "scaler = preprocessing.MinMaxScaler()\n",
    "scaled_tempdf = scaler.fit_transform(tempdf)\n",
    "tempcol=list(tempdf.columns)\n",
    "scaled_df = pd.DataFrame(scaled_tempdf, columns=tempcol)\n",
    "scaled_df.sort_index(inplace=True)\n",
    "scaled_df['class'] = stellar_df['class']\n",
    "scaled_df.head()"
   ]
  },
  {
   "cell_type": "code",
   "execution_count": 12,
   "metadata": {},
   "outputs": [
    {
     "data": {
      "text/plain": [
       "{'GALAXY': 41610, 'QSO': 13274, 'STAR': 15115}"
      ]
     },
     "execution_count": 12,
     "metadata": {},
     "output_type": "execute_result"
    }
   ],
   "source": [
    "# Split data into train and test sets\n",
    "X_train, y_train, X_valid, y_valid, X_test, y_test = train_valid_test_split(scaled_df, target = 'class', \n",
    "                                                                            train_size=0.7, valid_size=0.15, test_size=0.15)\n",
    "#X_train, X_test, y_train, y_test = train_test_split(X, y)\n",
    "Counter(y_train)\n",
    "stellar_dict = dict(Counter(y_train))\n",
    "stellar_dict"
   ]
  },
  {
   "cell_type": "markdown",
   "metadata": {},
   "source": [
    "It's clear that where are dealing with an imbalanced dataset, we need to balance the dataset using the random oversampling method."
   ]
  },
  {
   "cell_type": "code",
   "execution_count": 13,
   "metadata": {},
   "outputs": [
    {
     "data": {
      "text/plain": [
       "Counter({'GALAXY': 41610, 'QSO': 41610, 'STAR': 41610})"
      ]
     },
     "execution_count": 13,
     "metadata": {},
     "output_type": "execute_result"
    }
   ],
   "source": [
    "random_os = RandomOverSampler(random_state=1)\n",
    "X_train_oversampled, y_train_oversampled = random_os.fit_resample(X_train, y_train)\n",
    "Counter(y_train_oversampled)"
   ]
  },
  {
   "cell_type": "code",
   "execution_count": 14,
   "metadata": {},
   "outputs": [
    {
     "data": {
      "text/plain": [
       "0         GALAXY\n",
       "1         GALAXY\n",
       "2         GALAXY\n",
       "3         GALAXY\n",
       "4         GALAXY\n",
       "           ...  \n",
       "124825      STAR\n",
       "124826      STAR\n",
       "124827      STAR\n",
       "124828      STAR\n",
       "124829      STAR\n",
       "Name: class, Length: 124830, dtype: object"
      ]
     },
     "execution_count": 14,
     "metadata": {},
     "output_type": "execute_result"
    }
   ],
   "source": [
    "y_train_oversampled"
   ]
  },
  {
   "cell_type": "markdown",
   "metadata": {},
   "source": [
    "Let's create another X_train and y_train dataset without outliers. We will use the IQR method to remove them."
   ]
  },
  {
   "cell_type": "code",
   "execution_count": 64,
   "metadata": {},
   "outputs": [
    {
     "data": {
      "text/plain": [
       "Index(['u', 'g', 'r', 'i', 'z', 'redshift'], dtype='object')"
      ]
     },
     "execution_count": 64,
     "metadata": {},
     "output_type": "execute_result"
    }
   ],
   "source": [
    "X_train.columns"
   ]
  },
  {
   "cell_type": "code",
   "execution_count": 68,
   "metadata": {},
   "outputs": [],
   "source": [
    "upper_limits = []\n",
    "lower_limits = []\n",
    "for col in X_train.columns:\n",
    "    p25 = X_train[col].quantile(0.25)\n",
    "    p75 = X_train[col].quantile(0.75)\n",
    "    iqr = p75-p25\n",
    "    upper_limits.append(p75 + 1.5*iqr)\n",
    "    lower_limits.append(p25 - 1.5*iqr)\n",
    "\n",
    "\n"
   ]
  },
  {
   "cell_type": "code",
   "execution_count": 76,
   "metadata": {},
   "outputs": [],
   "source": [
    "X_train_no_outliers = X_train[(X_train['u'] > lower_limits[0]) & (X_train['u'] < upper_limits[0]) & (X_train['g'] > lower_limits[1]) & (X_train['g'] < upper_limits[1]) & (X_train['r'] > lower_limits[2]) & (X_train['r'] < upper_limits[2]) & (X_train['i'] > lower_limits[3]) & (X_train['i'] < upper_limits[3]) & (X_train['z'] > lower_limits[4]) & (X_train['z'] < upper_limits[4]) & (X_train['redshift'] > lower_limits[5]) & (X_train['redshift'] < upper_limits[5])]"
   ]
  },
  {
   "cell_type": "code",
   "execution_count": 82,
   "metadata": {},
   "outputs": [
    {
     "data": {
      "text/plain": [
       "True"
      ]
     },
     "execution_count": 82,
     "metadata": {},
     "output_type": "execute_result"
    }
   ],
   "source": [
    "ind = X_train_no_outliers.index.to_list()\n",
    "y_train_no_outliers = y_train[ind]\n",
    "len(X_train_no_outliers) == len(y_train_no_outliers)"
   ]
  },
  {
   "cell_type": "code",
   "execution_count": 83,
   "metadata": {},
   "outputs": [
    {
     "data": {
      "text/plain": [
       "Counter({'GALAXY': 41403, 'STAR': 41403, 'QSO': 41403})"
      ]
     },
     "execution_count": 83,
     "metadata": {},
     "output_type": "execute_result"
    }
   ],
   "source": [
    "random_os = RandomOverSampler(random_state=1)\n",
    "X_train_no_outliers_oversampled, y_train_no_outliers_oversampled = random_os.fit_resample(X_train_no_outliers, y_train_no_outliers)\n",
    "Counter(y_train_no_outliers_oversampled)"
   ]
  },
  {
   "cell_type": "markdown",
   "metadata": {},
   "source": [
    "### Multinomial Logistic regression oversampled"
   ]
  },
  {
   "cell_type": "code",
   "execution_count": 15,
   "metadata": {},
   "outputs": [
    {
     "data": {
      "text/plain": [
       "LogisticRegression(max_iter=100000, multi_class='multinomial', penalty='none')"
      ]
     },
     "execution_count": 15,
     "metadata": {},
     "output_type": "execute_result"
    }
   ],
   "source": [
    "# Train the Logistic Regression Model using the resampled data\n",
    "model = LogisticRegression(multi_class='multinomial', solver='lbfgs', penalty='none', max_iter=100000)\n",
    "model.fit(X_train_oversampled, y_train_oversampled)"
   ]
  },
  {
   "cell_type": "code",
   "execution_count": 16,
   "metadata": {},
   "outputs": [
    {
     "name": "stdout",
     "output_type": "stream",
     "text": [
      "Balanced Accuracy for training set: 0.9559320676119523\n",
      "Accuracy for trainining set: 0.9559320676119523\n"
     ]
    }
   ],
   "source": [
    "y_pred = model.predict(X_train_oversampled)\n",
    "print(\"Balanced Accuracy for training set:\", balanced_accuracy_score(y_train_oversampled, y_pred))\n",
    "print(\"Accuracy for trainining set:\", accuracy_score(y_train_oversampled, y_pred))"
   ]
  },
  {
   "cell_type": "code",
   "execution_count": 17,
   "metadata": {},
   "outputs": [
    {
     "name": "stdout",
     "output_type": "stream",
     "text": [
      "Balanced Accuracy for validation set: 0.958877115893025\n",
      "Accuracy for validation set: 0.9560666666666666\n"
     ]
    }
   ],
   "source": [
    "y_pred = model.predict(X_valid)\n",
    "print(\"Balanced Accuracy for validation set:\", balanced_accuracy_score(y_valid, y_pred))\n",
    "print(\"Accuracy for validation set:\", accuracy_score(y_valid, y_pred))"
   ]
  },
  {
   "cell_type": "code",
   "execution_count": 18,
   "metadata": {},
   "outputs": [
    {
     "name": "stdout",
     "output_type": "stream",
     "text": [
      "Balanced Accuracy for test set: 0.9538137018683117\n",
      "Accuracy for test set: 0.9522666666666667\n"
     ]
    }
   ],
   "source": [
    "y_pred = model.predict(X_test)\n",
    "print(\"Balanced Accuracy for test set:\", balanced_accuracy_score(y_test, y_pred))\n",
    "print(\"Accuracy for test set:\", accuracy_score(y_test, y_pred))"
   ]
  },
  {
   "cell_type": "code",
   "execution_count": 19,
   "metadata": {},
   "outputs": [
    {
     "name": "stdout",
     "output_type": "stream",
     "text": [
      "                   pre       rec       spe        f1       geo       iba       sup\n",
      "\n",
      "     GALAXY       0.97      0.95      0.96      0.96      0.95      0.91      8983\n",
      "        QSO       0.86      0.91      0.97      0.89      0.94      0.88      2787\n",
      "       STAR       0.98      1.00      0.99      0.99      1.00      0.99      3230\n",
      "\n",
      "avg / total       0.95      0.95      0.97      0.95      0.96      0.92     15000\n",
      "\n"
     ]
    }
   ],
   "source": [
    "# Print the imbalanced classification report\n",
    "print(classification_report_imbalanced(y_test,y_pred))"
   ]
  },
  {
   "cell_type": "code",
   "execution_count": 20,
   "metadata": {},
   "outputs": [
    {
     "data": {
      "text/plain": [
       "Text(73.7, 0.5, 'Predicted label')"
      ]
     },
     "execution_count": 20,
     "metadata": {},
     "output_type": "execute_result"
    },
    {
     "data": {
      "image/png": "[encoded data removed]",
      "text/plain": [
       "<Figure size 720x720 with 1 Axes>"
      ]
     },
     "metadata": {},
     "output_type": "display_data"
    }
   ],
   "source": [
    "mat = confusion_matrix(y_test, y_pred)\n",
    "sns.heatmap(mat.T, square=True, annot=True, fmt='d', cbar=False, cmap=\"Greens\",\n",
    "            xticklabels=['GALAXY', 'QSO', 'STAR'], yticklabels=['GALAXY', 'QSO', 'STAR'])\n",
    "sns.set(rc={'figure.figsize':(8,8)})\n",
    "plt.xlabel('True label')\n",
    "plt.ylabel('Predicted label')"
   ]
  },
  {
   "cell_type": "markdown",
   "metadata": {},
   "source": [
    "Now let's repeat the analysis on the dataset without outliers."
   ]
  },
  {
   "cell_type": "code",
   "execution_count": 84,
   "metadata": {},
   "outputs": [
    {
     "data": {
      "text/plain": [
       "LogisticRegression(max_iter=100000, multi_class='multinomial', penalty='none')"
      ]
     },
     "execution_count": 84,
     "metadata": {},
     "output_type": "execute_result"
    }
   ],
   "source": [
    "# Train the Logistic Regression Model using the resampled data without outliers\n",
    "model = LogisticRegression(multi_class='multinomial', solver='lbfgs', penalty='none', max_iter=100000)\n",
    "model.fit(X_train_no_outliers_oversampled, y_train_no_outliers_oversampled)"
   ]
  },
  {
   "cell_type": "code",
   "execution_count": 85,
   "metadata": {},
   "outputs": [
    {
     "name": "stdout",
     "output_type": "stream",
     "text": [
      "Balanced Accuracy for training set: 0.9365746443494433\n",
      "Accuracy for trainining set: 0.9365746443494433\n"
     ]
    }
   ],
   "source": [
    "y_pred = model.predict(X_train_no_outliers_oversampled)\n",
    "print(\"Balanced Accuracy for training set:\", balanced_accuracy_score(y_train_no_outliers_oversampled, y_pred))\n",
    "print(\"Accuracy for trainining set:\", accuracy_score(y_train_no_outliers_oversampled, y_pred))"
   ]
  },
  {
   "cell_type": "code",
   "execution_count": 86,
   "metadata": {},
   "outputs": [
    {
     "name": "stdout",
     "output_type": "stream",
     "text": [
      "Balanced Accuracy for validation set: 0.9575035764184915\n",
      "Accuracy for validation set: 0.9452666666666667\n"
     ]
    }
   ],
   "source": [
    "y_pred = model.predict(X_valid)\n",
    "print(\"Balanced Accuracy for validation set:\", balanced_accuracy_score(y_valid, y_pred))\n",
    "print(\"Accuracy for validation set:\", accuracy_score(y_valid, y_pred))"
   ]
  },
  {
   "cell_type": "code",
   "execution_count": 87,
   "metadata": {
    "scrolled": true
   },
   "outputs": [
    {
     "name": "stdout",
     "output_type": "stream",
     "text": [
      "Balanced Accuracy for test set: 0.9534117421631413\n",
      "Accuracy for test set: 0.942\n"
     ]
    }
   ],
   "source": [
    "y_pred = model.predict(X_test)\n",
    "print(\"Balanced Accuracy for test set:\", balanced_accuracy_score(y_test, y_pred))\n",
    "print(\"Accuracy for test set:\", accuracy_score(y_test, y_pred))"
   ]
  },
  {
   "cell_type": "markdown",
   "metadata": {},
   "source": [
    "### ROC curve without oversampling"
   ]
  },
  {
   "cell_type": "code",
   "execution_count": 17,
   "metadata": {},
   "outputs": [],
   "source": [
    "classifier = LogisticRegression()\n",
    "y_score = classifier.fit(X_train, y_train).predict_proba(X_test)"
   ]
  },
  {
   "cell_type": "code",
   "execution_count": 18,
   "metadata": {},
   "outputs": [
    {
     "data": {
      "text/plain": [
       "(80000, 3)"
      ]
     },
     "execution_count": 18,
     "metadata": {},
     "output_type": "execute_result"
    }
   ],
   "source": [
    "label_binarizer = LabelBinarizer().fit(y_train)\n",
    "y_onehot_test = label_binarizer.transform(y_test)\n",
    "y_onehot_test.shape  # (n_samples, n_classes)"
   ]
  },
  {
   "cell_type": "code",
   "execution_count": 30,
   "metadata": {},
   "outputs": [
    {
     "data": {
      "text/plain": [
       "2"
      ]
     },
     "execution_count": 30,
     "metadata": {},
     "output_type": "execute_result"
    }
   ],
   "source": [
    "class_of_interest = \"STAR\"\n",
    "class_id = np.flatnonzero(label_binarizer.classes_ == class_of_interest)[0]\n",
    "class_id"
   ]
  },
  {
   "cell_type": "code",
   "execution_count": 31,
   "metadata": {},
   "outputs": [
    {
     "data": {
      "image/png": "[encoded data removed]",
      "text/plain": [
       "<Figure size 432x288 with 1 Axes>"
      ]
     },
     "metadata": {
      "needs_background": "light"
     },
     "output_type": "display_data"
    }
   ],
   "source": [
    "RocCurveDisplay.from_predictions(\n",
    "    y_onehot_test.ravel(),\n",
    "    y_score.ravel(),\n",
    "    name=\"micro-average OvR\",\n",
    "    color=\"darkorange\",\n",
    ")\n",
    "plt.plot([0, 1], [0, 1], \"k--\", label=\"chance level (AUC = 0.5)\")\n",
    "plt.axis(\"square\")\n",
    "plt.xlabel(\"False Positive Rate\")\n",
    "plt.ylabel(\"True Positive Rate\")\n",
    "plt.title(\"Micro-averaged One-vs-Rest\\nReceiver Operating Characteristic\")\n",
    "plt.legend()\n",
    "plt.show()"
   ]
  },
  {
   "cell_type": "code",
   "execution_count": 33,
   "metadata": {},
   "outputs": [],
   "source": [
    "# store the fpr, tpr, and roc_auc for all averaging strategies\n",
    "fpr, tpr, roc_auc = dict(), dict(), dict()\n",
    "# Compute micro-average ROC curve and ROC area\n",
    "fpr[\"micro\"], tpr[\"micro\"], _ = roc_curve(y_onehot_test.ravel(), y_score.ravel())\n",
    "roc_auc[\"micro\"] = auc(fpr[\"micro\"], tpr[\"micro\"])"
   ]
  },
  {
   "cell_type": "code",
   "execution_count": 35,
   "metadata": {},
   "outputs": [
    {
     "name": "stdout",
     "output_type": "stream",
     "text": [
      "Macro-averaged One-vs-Rest ROC AUC score:\n",
      "0.61\n"
     ]
    }
   ],
   "source": [
    "n_classes = 3\n",
    "for i in range(n_classes):\n",
    "    fpr[i], tpr[i], _ = roc_curve(y_onehot_test[:, i], y_score[:, i])\n",
    "    roc_auc[i] = auc(fpr[i], tpr[i])\n",
    "\n",
    "fpr_grid = np.linspace(0.0, 1.0, 1000)\n",
    "\n",
    "# Interpolate all ROC curves at these points\n",
    "mean_tpr = np.zeros_like(fpr_grid)\n",
    "\n",
    "for i in range(n_classes):\n",
    "    mean_tpr += np.interp(fpr_grid, fpr[i], tpr[i])  # linear interpolation\n",
    "\n",
    "# Average it and compute AUC\n",
    "mean_tpr /= n_classes\n",
    "\n",
    "fpr[\"macro\"] = fpr_grid\n",
    "tpr[\"macro\"] = mean_tpr\n",
    "roc_auc[\"macro\"] = auc(fpr[\"macro\"], tpr[\"macro\"])\n",
    "\n",
    "print(f\"Macro-averaged One-vs-Rest ROC AUC score:\\n{roc_auc['macro']:.2f}\")"
   ]
  },
  {
   "cell_type": "code",
   "execution_count": 37,
   "metadata": {},
   "outputs": [
    {
     "data": {
      "image/png": "[encoded data removed]",
      "text/plain": [
       "<Figure size 720x720 with 1 Axes>"
      ]
     },
     "metadata": {
      "needs_background": "light"
     },
     "output_type": "display_data"
    }
   ],
   "source": [
    "fig, ax = plt.subplots(figsize=(10, 10))\n",
    "\n",
    "plt.plot(\n",
    "    fpr[\"micro\"],\n",
    "    tpr[\"micro\"],\n",
    "    label=f\"micro-average ROC curve (AUC = {roc_auc['micro']:.2f})\",\n",
    "    color=\"deeppink\",\n",
    "    linestyle=\":\",\n",
    "    linewidth=4,\n",
    ")\n",
    "\n",
    "plt.plot(\n",
    "    fpr[\"macro\"],\n",
    "    tpr[\"macro\"],\n",
    "    label=f\"macro-average ROC curve (AUC = {roc_auc['macro']:.2f})\",\n",
    "    color=\"navy\",\n",
    "    linestyle=\":\",\n",
    "    linewidth=4,\n",
    ")\n",
    "\n",
    "colors = cycle([\"aqua\", \"darkorange\", \"cornflowerblue\"])\n",
    "for class_id, color in zip(range(n_classes), colors):\n",
    "    RocCurveDisplay.from_predictions(\n",
    "        y_onehot_test[:, class_id],\n",
    "        y_score[:, class_id],\n",
    "        name=f\"ROC curve for {target_names[class_id]}\",\n",
    "        color=color,\n",
    "        ax=ax,\n",
    "    )\n",
    "\n",
    "plt.plot([0, 1], [0, 1], \"k--\", label=\"ROC curve for chance level (AUC = 0.5)\")\n",
    "plt.axis(\"square\")\n",
    "plt.xlabel(\"False Positive Rate\")\n",
    "plt.ylabel(\"True Positive Rate\")\n",
    "plt.title(\"Extension of Receiver Operating Characteristic\\nto One-vs-Rest multiclass\")\n",
    "plt.legend()\n",
    "plt.show()"
   ]
  },
  {
   "cell_type": "code",
   "execution_count": 32,
   "metadata": {},
   "outputs": [
    {
     "data": {
      "image/png": "[encoded data removed]",
      "text/plain": [
       "<Figure size 432x288 with 1 Axes>"
      ]
     },
     "metadata": {
      "needs_background": "light"
     },
     "output_type": "display_data"
    }
   ],
   "source": [
    "RocCurveDisplay.from_predictions(\n",
    "    y_onehot_test[:, class_id],\n",
    "    y_score[:, class_id],\n",
    "    name=f\"{class_of_interest} vs the rest\",\n",
    "    color=\"darkorange\",\n",
    ")\n",
    "plt.plot([0, 1], [0, 1], \"k--\", label=\"chance level (AUC = 0.5)\")\n",
    "plt.axis(\"square\")\n",
    "plt.xlabel(\"False Positive Rate\")\n",
    "plt.ylabel(\"True Positive Rate\")\n",
    "plt.title(\"One-vs-Rest ROC curves\")\n",
    "plt.legend()\n",
    "plt.show()"
   ]
  },
  {
   "cell_type": "markdown",
   "metadata": {},
   "source": [
    "### ROC curve in case of oversampling"
   ]
  },
  {
   "cell_type": "code",
   "execution_count": 21,
   "metadata": {},
   "outputs": [],
   "source": [
    "target_names = ['STAR', 'GALAXY', 'QSO']"
   ]
  },
  {
   "cell_type": "code",
   "execution_count": 22,
   "metadata": {},
   "outputs": [],
   "source": [
    "classifier = LogisticRegression()\n",
    "y_score = classifier.fit(X_train_oversampled, y_train_oversampled).predict_proba(X_test)"
   ]
  },
  {
   "cell_type": "code",
   "execution_count": 23,
   "metadata": {},
   "outputs": [
    {
     "data": {
      "text/plain": [
       "(15000, 3)"
      ]
     },
     "execution_count": 23,
     "metadata": {},
     "output_type": "execute_result"
    }
   ],
   "source": [
    "label_binarizer = LabelBinarizer().fit(y_train_oversampled)\n",
    "y_onehot_test = label_binarizer.transform(y_test)\n",
    "y_onehot_test.shape  # (n_samples, n_classes)"
   ]
  },
  {
   "cell_type": "code",
   "execution_count": 24,
   "metadata": {},
   "outputs": [],
   "source": [
    "# store the fpr, tpr, and roc_auc for all averaging strategies\n",
    "fpr, tpr, roc_auc = dict(), dict(), dict()\n",
    "# Compute micro-average ROC curve and ROC area\n",
    "fpr[\"micro\"], tpr[\"micro\"], _ = roc_curve(y_onehot_test.ravel(), y_score.ravel())\n",
    "roc_auc[\"micro\"] = auc(fpr[\"micro\"], tpr[\"micro\"])"
   ]
  },
  {
   "cell_type": "code",
   "execution_count": 25,
   "metadata": {},
   "outputs": [
    {
     "name": "stdout",
     "output_type": "stream",
     "text": [
      "Macro-averaged One-vs-Rest ROC AUC score:\n",
      "0.98\n"
     ]
    }
   ],
   "source": [
    "for i in range(3):\n",
    "    fpr[i], tpr[i], _ = roc_curve(y_onehot_test[:, i], y_score[:, i])\n",
    "    roc_auc[i] = auc(fpr[i], tpr[i])\n",
    "\n",
    "fpr_grid = np.linspace(0.0, 1.0, 1000)\n",
    "\n",
    "# Interpolate all ROC curves at these points\n",
    "mean_tpr = np.zeros_like(fpr_grid)\n",
    "\n",
    "for i in range(3):\n",
    "    mean_tpr += np.interp(fpr_grid, fpr[i], tpr[i])  # linear interpolation\n",
    "\n",
    "# Average it and compute AUC\n",
    "mean_tpr /= 3\n",
    "\n",
    "fpr[\"macro\"] = fpr_grid\n",
    "tpr[\"macro\"] = mean_tpr\n",
    "roc_auc[\"macro\"] = auc(fpr[\"macro\"], tpr[\"macro\"])\n",
    "\n",
    "print(f\"Macro-averaged One-vs-Rest ROC AUC score:\\n{roc_auc['macro']:.2f}\")"
   ]
  },
  {
   "cell_type": "code",
   "execution_count": 26,
   "metadata": {},
   "outputs": [
    {
     "data": {
      "image/png": "[encoded data removed]",
      "text/plain": [
       "<Figure size 720x720 with 1 Axes>"
      ]
     },
     "metadata": {},
     "output_type": "display_data"
    }
   ],
   "source": [
    "fig, ax = plt.subplots(figsize=(10, 10))\n",
    "\n",
    "plt.plot(\n",
    "    fpr[\"micro\"],\n",
    "    tpr[\"micro\"],\n",
    "    label=f\"micro-average ROC curve (AUC = {roc_auc['micro']:.2f})\",\n",
    "    color=\"deeppink\",\n",
    "    linestyle=\":\",\n",
    "    linewidth=4,\n",
    ")\n",
    "\n",
    "plt.plot(\n",
    "    fpr[\"macro\"],\n",
    "    tpr[\"macro\"],\n",
    "    label=f\"macro-average ROC curve (AUC = {roc_auc['macro']:.2f})\",\n",
    "    color=\"navy\",\n",
    "    linestyle=\":\",\n",
    "    linewidth=4,\n",
    ")\n",
    "plt.grid(False)\n",
    "colors = cycle([\"aqua\", \"darkorange\", \"cornflowerblue\"])\n",
    "for class_id, color in zip(range(3), colors):\n",
    "    RocCurveDisplay.from_predictions(\n",
    "        y_onehot_test[:, class_id],\n",
    "        y_score[:, class_id],\n",
    "        name=f\"ROC curve for {target_names[class_id]}\",\n",
    "        color=color,\n",
    "        ax=ax,\n",
    "    )\n",
    "\n",
    "plt.plot([0, 1], [0, 1], \"k--\", label=\"ROC curve for chance level (AUC = 0.5)\")\n",
    "#plt.axis(\"square\")\n",
    "plt.xlabel(\"False Positive Rate\")\n",
    "plt.ylabel(\"True Positive Rate\")\n",
    "#plt.title(\"Extension of Receiver Operating Characteristic\\nto One-vs-Rest multiclass\")\n",
    "plt.legend()\n",
    "plt.show()"
   ]
  },
  {
   "cell_type": "markdown",
   "metadata": {},
   "source": [
    "We observe a huge improvement in performance respect to the previous ROC curve obtained without oversampling."
   ]
  },
  {
   "cell_type": "markdown",
   "metadata": {},
   "source": [
    "## KNN"
   ]
  },
  {
   "cell_type": "code",
   "execution_count": 27,
   "metadata": {},
   "outputs": [
    {
     "name": "stderr",
     "output_type": "stream",
     "text": [
      "100%|██████████| 66/66 [01:52<00:00,  1.71s/it]\n"
     ]
    }
   ],
   "source": [
    "k_range = [i for i in range(1,100) if (i%3!=0)]\n",
    "accuracy_list = []\n",
    "balanced_accuracy_list = []\n",
    "for k in tqdm(k_range): \n",
    "    classifier = KNeighborsClassifier(n_neighbors = k)\n",
    "    classifier.fit(X_train_oversampled, y_train_oversampled)\n",
    "    y_pred = classifier.predict(X_test)\n",
    "    accuracy_list.append(metrics.accuracy_score(y_pred, y_test))\n",
    "    balanced_accuracy_list.append(metrics.balanced_accuracy_score(y_pred, y_test, adjusted = True))"
   ]
  },
  {
   "cell_type": "code",
   "execution_count": 28,
   "metadata": {},
   "outputs": [
    {
     "data": {
      "image/png": "[encoded data removed]",
      "text/plain": [
       "<Figure size 576x576 with 1 Axes>"
      ]
     },
     "metadata": {},
     "output_type": "display_data"
    }
   ],
   "source": [
    "plt.xlabel('Value of K for KNN')\n",
    "plt.ylabel('Testing Accuracy')\n",
    "\n",
    "plt.plot(k_range, accuracy_list, label = \"ACCURACY\")\n",
    "plt.plot(k_range, balanced_accuracy_list, label = \"BALANCED ACCURACY\")\n",
    "plt.title('KNN Accuracy')\n",
    "plt.legend()\n",
    "plt.show()"
   ]
  },
  {
   "cell_type": "code",
   "execution_count": 29,
   "metadata": {},
   "outputs": [
    {
     "data": {
      "text/plain": [
       "0.915158008334385"
      ]
     },
     "execution_count": 29,
     "metadata": {},
     "output_type": "execute_result"
    }
   ],
   "source": [
    "k = 10\n",
    "classifier = KNeighborsClassifier(n_neighbors = k)\n",
    "classifier.fit(X_train_oversampled, y_train_oversampled)\n",
    "y_pred = classifier.predict(X_valid)\n",
    "balanced_accuracy_score(y_pred, y_valid, adjusted = True)"
   ]
  },
  {
   "cell_type": "markdown",
   "metadata": {},
   "source": [
    "Now let's repeat the analysis with the dataset that excluded outleirs."
   ]
  },
  {
   "cell_type": "code",
   "execution_count": 88,
   "metadata": {},
   "outputs": [
    {
     "name": "stderr",
     "output_type": "stream",
     "text": [
      "100%|██████████| 66/66 [02:00<00:00,  1.83s/it]\n"
     ]
    }
   ],
   "source": [
    "k_range = [i for i in range(1,100) if (i%3!=0)]\n",
    "accuracy_list = []\n",
    "balanced_accuracy_list = []\n",
    "for k in tqdm(k_range): \n",
    "    classifier = KNeighborsClassifier(n_neighbors = k)\n",
    "    classifier.fit(X_train_no_outliers_oversampled, y_train_no_outliers_oversampled)\n",
    "    y_pred = classifier.predict(X_test)\n",
    "    accuracy_list.append(metrics.accuracy_score(y_pred, y_test))\n",
    "    balanced_accuracy_list.append(metrics.balanced_accuracy_score(y_pred, y_test, adjusted = True))"
   ]
  },
  {
   "cell_type": "code",
   "execution_count": 89,
   "metadata": {},
   "outputs": [
    {
     "data": {
      "image/png": "[encoded data removed]",
      "text/plain": [
       "<Figure size 576x576 with 1 Axes>"
      ]
     },
     "metadata": {},
     "output_type": "display_data"
    }
   ],
   "source": [
    "plt.xlabel('Value of K for KNN')\n",
    "plt.ylabel('Testing Accuracy')\n",
    "\n",
    "plt.plot(k_range, accuracy_list, label = \"ACCURACY\")\n",
    "plt.plot(k_range, balanced_accuracy_list, label = \"BALANCED ACCURACY\")\n",
    "plt.title('KNN Accuracy')\n",
    "plt.legend()\n",
    "\n",
    "plt.show()"
   ]
  },
  {
   "cell_type": "code",
   "execution_count": 93,
   "metadata": {},
   "outputs": [
    {
     "data": {
      "text/plain": [
       "0.9059558161407157"
      ]
     },
     "execution_count": 93,
     "metadata": {},
     "output_type": "execute_result"
    }
   ],
   "source": [
    "k = 28\n",
    "classifier = KNeighborsClassifier(n_neighbors = k)\n",
    "classifier.fit(X_train_oversampled, y_train_oversampled)\n",
    "y_pred = classifier.predict(X_valid)\n",
    "balanced_accuracy_score(y_pred, y_valid, adjusted = True)"
   ]
  },
  {
   "cell_type": "markdown",
   "metadata": {},
   "source": [
    "## PCA"
   ]
  },
  {
   "cell_type": "code",
   "execution_count": 30,
   "metadata": {},
   "outputs": [
    {
     "data": {
      "text/html": [
       "<div>\n",
       "<style scoped>\n",
       "    .dataframe tbody tr th:only-of-type {\n",
       "        vertical-align: middle;\n",
       "    }\n",
       "\n",
       "    .dataframe tbody tr th {\n",
       "        vertical-align: top;\n",
       "    }\n",
       "\n",
       "    .dataframe thead th {\n",
       "        text-align: right;\n",
       "    }\n",
       "</style>\n",
       "<table border=\"1\" class=\"dataframe\">\n",
       "  <thead>\n",
       "    <tr style=\"text-align: right;\">\n",
       "      <th></th>\n",
       "      <th>obj_ID</th>\n",
       "      <th>alpha</th>\n",
       "      <th>delta</th>\n",
       "      <th>u</th>\n",
       "      <th>g</th>\n",
       "      <th>r</th>\n",
       "      <th>i</th>\n",
       "      <th>z</th>\n",
       "      <th>run_ID</th>\n",
       "      <th>rerun_ID</th>\n",
       "      <th>cam_col</th>\n",
       "      <th>field_ID</th>\n",
       "      <th>spec_obj_ID</th>\n",
       "      <th>class</th>\n",
       "      <th>redshift</th>\n",
       "      <th>plate</th>\n",
       "      <th>MJD</th>\n",
       "      <th>fiber_ID</th>\n",
       "    </tr>\n",
       "  </thead>\n",
       "  <tbody>\n",
       "    <tr>\n",
       "      <th>0</th>\n",
       "      <td>1.237661e+18</td>\n",
       "      <td>135.689107</td>\n",
       "      <td>32.494632</td>\n",
       "      <td>23.87882</td>\n",
       "      <td>22.27530</td>\n",
       "      <td>20.39501</td>\n",
       "      <td>19.16573</td>\n",
       "      <td>18.79371</td>\n",
       "      <td>3606</td>\n",
       "      <td>301</td>\n",
       "      <td>2</td>\n",
       "      <td>79</td>\n",
       "      <td>6.543777e+18</td>\n",
       "      <td>GALAXY</td>\n",
       "      <td>0.634794</td>\n",
       "      <td>5812</td>\n",
       "      <td>56354</td>\n",
       "      <td>171</td>\n",
       "    </tr>\n",
       "    <tr>\n",
       "      <th>1</th>\n",
       "      <td>1.237665e+18</td>\n",
       "      <td>144.826101</td>\n",
       "      <td>31.274185</td>\n",
       "      <td>24.77759</td>\n",
       "      <td>22.83188</td>\n",
       "      <td>22.58444</td>\n",
       "      <td>21.16812</td>\n",
       "      <td>21.61427</td>\n",
       "      <td>4518</td>\n",
       "      <td>301</td>\n",
       "      <td>5</td>\n",
       "      <td>119</td>\n",
       "      <td>1.176014e+19</td>\n",
       "      <td>GALAXY</td>\n",
       "      <td>0.779136</td>\n",
       "      <td>10445</td>\n",
       "      <td>58158</td>\n",
       "      <td>427</td>\n",
       "    </tr>\n",
       "    <tr>\n",
       "      <th>2</th>\n",
       "      <td>1.237661e+18</td>\n",
       "      <td>142.188790</td>\n",
       "      <td>35.582444</td>\n",
       "      <td>25.26307</td>\n",
       "      <td>22.66389</td>\n",
       "      <td>20.60976</td>\n",
       "      <td>19.34857</td>\n",
       "      <td>18.94827</td>\n",
       "      <td>3606</td>\n",
       "      <td>301</td>\n",
       "      <td>2</td>\n",
       "      <td>120</td>\n",
       "      <td>5.152200e+18</td>\n",
       "      <td>GALAXY</td>\n",
       "      <td>0.644195</td>\n",
       "      <td>4576</td>\n",
       "      <td>55592</td>\n",
       "      <td>299</td>\n",
       "    </tr>\n",
       "    <tr>\n",
       "      <th>3</th>\n",
       "      <td>1.237663e+18</td>\n",
       "      <td>338.741038</td>\n",
       "      <td>-0.402828</td>\n",
       "      <td>22.13682</td>\n",
       "      <td>23.77656</td>\n",
       "      <td>21.61162</td>\n",
       "      <td>20.50454</td>\n",
       "      <td>19.25010</td>\n",
       "      <td>4192</td>\n",
       "      <td>301</td>\n",
       "      <td>3</td>\n",
       "      <td>214</td>\n",
       "      <td>1.030107e+19</td>\n",
       "      <td>GALAXY</td>\n",
       "      <td>0.932346</td>\n",
       "      <td>9149</td>\n",
       "      <td>58039</td>\n",
       "      <td>775</td>\n",
       "    </tr>\n",
       "    <tr>\n",
       "      <th>4</th>\n",
       "      <td>1.237680e+18</td>\n",
       "      <td>345.282593</td>\n",
       "      <td>21.183866</td>\n",
       "      <td>19.43718</td>\n",
       "      <td>17.58028</td>\n",
       "      <td>16.49747</td>\n",
       "      <td>15.97711</td>\n",
       "      <td>15.54461</td>\n",
       "      <td>8102</td>\n",
       "      <td>301</td>\n",
       "      <td>3</td>\n",
       "      <td>137</td>\n",
       "      <td>6.891865e+18</td>\n",
       "      <td>GALAXY</td>\n",
       "      <td>0.116123</td>\n",
       "      <td>6121</td>\n",
       "      <td>56187</td>\n",
       "      <td>842</td>\n",
       "    </tr>\n",
       "    <tr>\n",
       "      <th>...</th>\n",
       "      <td>...</td>\n",
       "      <td>...</td>\n",
       "      <td>...</td>\n",
       "      <td>...</td>\n",
       "      <td>...</td>\n",
       "      <td>...</td>\n",
       "      <td>...</td>\n",
       "      <td>...</td>\n",
       "      <td>...</td>\n",
       "      <td>...</td>\n",
       "      <td>...</td>\n",
       "      <td>...</td>\n",
       "      <td>...</td>\n",
       "      <td>...</td>\n",
       "      <td>...</td>\n",
       "      <td>...</td>\n",
       "      <td>...</td>\n",
       "      <td>...</td>\n",
       "    </tr>\n",
       "    <tr>\n",
       "      <th>99994</th>\n",
       "      <td>1.237679e+18</td>\n",
       "      <td>39.620709</td>\n",
       "      <td>-2.594074</td>\n",
       "      <td>22.16759</td>\n",
       "      <td>22.97586</td>\n",
       "      <td>21.90404</td>\n",
       "      <td>21.30548</td>\n",
       "      <td>20.73569</td>\n",
       "      <td>7778</td>\n",
       "      <td>301</td>\n",
       "      <td>2</td>\n",
       "      <td>581</td>\n",
       "      <td>1.055431e+19</td>\n",
       "      <td>GALAXY</td>\n",
       "      <td>0.000000</td>\n",
       "      <td>9374</td>\n",
       "      <td>57749</td>\n",
       "      <td>438</td>\n",
       "    </tr>\n",
       "    <tr>\n",
       "      <th>99995</th>\n",
       "      <td>1.237679e+18</td>\n",
       "      <td>29.493819</td>\n",
       "      <td>19.798874</td>\n",
       "      <td>22.69118</td>\n",
       "      <td>22.38628</td>\n",
       "      <td>20.45003</td>\n",
       "      <td>19.75759</td>\n",
       "      <td>19.41526</td>\n",
       "      <td>7917</td>\n",
       "      <td>301</td>\n",
       "      <td>1</td>\n",
       "      <td>289</td>\n",
       "      <td>8.586351e+18</td>\n",
       "      <td>GALAXY</td>\n",
       "      <td>0.404895</td>\n",
       "      <td>7626</td>\n",
       "      <td>56934</td>\n",
       "      <td>866</td>\n",
       "    </tr>\n",
       "    <tr>\n",
       "      <th>99996</th>\n",
       "      <td>1.237668e+18</td>\n",
       "      <td>224.587407</td>\n",
       "      <td>15.700707</td>\n",
       "      <td>21.16916</td>\n",
       "      <td>19.26997</td>\n",
       "      <td>18.20428</td>\n",
       "      <td>17.69034</td>\n",
       "      <td>17.35221</td>\n",
       "      <td>5314</td>\n",
       "      <td>301</td>\n",
       "      <td>4</td>\n",
       "      <td>308</td>\n",
       "      <td>3.112008e+18</td>\n",
       "      <td>GALAXY</td>\n",
       "      <td>0.143366</td>\n",
       "      <td>2764</td>\n",
       "      <td>54535</td>\n",
       "      <td>74</td>\n",
       "    </tr>\n",
       "    <tr>\n",
       "      <th>99997</th>\n",
       "      <td>1.237661e+18</td>\n",
       "      <td>212.268621</td>\n",
       "      <td>46.660365</td>\n",
       "      <td>25.35039</td>\n",
       "      <td>21.63757</td>\n",
       "      <td>19.91386</td>\n",
       "      <td>19.07254</td>\n",
       "      <td>18.62482</td>\n",
       "      <td>3650</td>\n",
       "      <td>301</td>\n",
       "      <td>4</td>\n",
       "      <td>131</td>\n",
       "      <td>7.601080e+18</td>\n",
       "      <td>GALAXY</td>\n",
       "      <td>0.455040</td>\n",
       "      <td>6751</td>\n",
       "      <td>56368</td>\n",
       "      <td>470</td>\n",
       "    </tr>\n",
       "    <tr>\n",
       "      <th>99998</th>\n",
       "      <td>1.237661e+18</td>\n",
       "      <td>196.896053</td>\n",
       "      <td>49.464643</td>\n",
       "      <td>22.62171</td>\n",
       "      <td>21.79745</td>\n",
       "      <td>20.60115</td>\n",
       "      <td>20.00959</td>\n",
       "      <td>19.28075</td>\n",
       "      <td>3650</td>\n",
       "      <td>301</td>\n",
       "      <td>4</td>\n",
       "      <td>60</td>\n",
       "      <td>8.343152e+18</td>\n",
       "      <td>GALAXY</td>\n",
       "      <td>0.542944</td>\n",
       "      <td>7410</td>\n",
       "      <td>57104</td>\n",
       "      <td>851</td>\n",
       "    </tr>\n",
       "  </tbody>\n",
       "</table>\n",
       "<p>99999 rows × 18 columns</p>\n",
       "</div>"
      ],
      "text/plain": [
       "             obj_ID       alpha      delta         u         g         r  \\\n",
       "0      1.237661e+18  135.689107  32.494632  23.87882  22.27530  20.39501   \n",
       "1      1.237665e+18  144.826101  31.274185  24.77759  22.83188  22.58444   \n",
       "2      1.237661e+18  142.188790  35.582444  25.26307  22.66389  20.60976   \n",
       "3      1.237663e+18  338.741038  -0.402828  22.13682  23.77656  21.61162   \n",
       "4      1.237680e+18  345.282593  21.183866  19.43718  17.58028  16.49747   \n",
       "...             ...         ...        ...       ...       ...       ...   \n",
       "99994  1.237679e+18   39.620709  -2.594074  22.16759  22.97586  21.90404   \n",
       "99995  1.237679e+18   29.493819  19.798874  22.69118  22.38628  20.45003   \n",
       "99996  1.237668e+18  224.587407  15.700707  21.16916  19.26997  18.20428   \n",
       "99997  1.237661e+18  212.268621  46.660365  25.35039  21.63757  19.91386   \n",
       "99998  1.237661e+18  196.896053  49.464643  22.62171  21.79745  20.60115   \n",
       "\n",
       "              i         z  run_ID  rerun_ID  cam_col  field_ID   spec_obj_ID  \\\n",
       "0      19.16573  18.79371    3606       301        2        79  6.543777e+18   \n",
       "1      21.16812  21.61427    4518       301        5       119  1.176014e+19   \n",
       "2      19.34857  18.94827    3606       301        2       120  5.152200e+18   \n",
       "3      20.50454  19.25010    4192       301        3       214  1.030107e+19   \n",
       "4      15.97711  15.54461    8102       301        3       137  6.891865e+18   \n",
       "...         ...       ...     ...       ...      ...       ...           ...   \n",
       "99994  21.30548  20.73569    7778       301        2       581  1.055431e+19   \n",
       "99995  19.75759  19.41526    7917       301        1       289  8.586351e+18   \n",
       "99996  17.69034  17.35221    5314       301        4       308  3.112008e+18   \n",
       "99997  19.07254  18.62482    3650       301        4       131  7.601080e+18   \n",
       "99998  20.00959  19.28075    3650       301        4        60  8.343152e+18   \n",
       "\n",
       "        class  redshift  plate    MJD  fiber_ID  \n",
       "0      GALAXY  0.634794   5812  56354       171  \n",
       "1      GALAXY  0.779136  10445  58158       427  \n",
       "2      GALAXY  0.644195   4576  55592       299  \n",
       "3      GALAXY  0.932346   9149  58039       775  \n",
       "4      GALAXY  0.116123   6121  56187       842  \n",
       "...       ...       ...    ...    ...       ...  \n",
       "99994  GALAXY  0.000000   9374  57749       438  \n",
       "99995  GALAXY  0.404895   7626  56934       866  \n",
       "99996  GALAXY  0.143366   2764  54535        74  \n",
       "99997  GALAXY  0.455040   6751  56368       470  \n",
       "99998  GALAXY  0.542944   7410  57104       851  \n",
       "\n",
       "[99999 rows x 18 columns]"
      ]
     },
     "execution_count": 30,
     "metadata": {},
     "output_type": "execute_result"
    }
   ],
   "source": [
    "PCAdf = pd.read_csv(\"star_classification.csv\")\n",
    "PCAdf.drop(index=79543, inplace=True)\n",
    "PCAdf.reset_index(drop=True, inplace=True)\n",
    "PCAdf"
   ]
  },
  {
   "cell_type": "code",
   "execution_count": 31,
   "metadata": {},
   "outputs": [
    {
     "data": {
      "text/html": [
       "<div>\n",
       "<style scoped>\n",
       "    .dataframe tbody tr th:only-of-type {\n",
       "        vertical-align: middle;\n",
       "    }\n",
       "\n",
       "    .dataframe tbody tr th {\n",
       "        vertical-align: top;\n",
       "    }\n",
       "\n",
       "    .dataframe thead th {\n",
       "        text-align: right;\n",
       "    }\n",
       "</style>\n",
       "<table border=\"1\" class=\"dataframe\">\n",
       "  <thead>\n",
       "    <tr style=\"text-align: right;\">\n",
       "      <th></th>\n",
       "      <th>u</th>\n",
       "      <th>g</th>\n",
       "      <th>r</th>\n",
       "      <th>i</th>\n",
       "      <th>z</th>\n",
       "      <th>redshift</th>\n",
       "    </tr>\n",
       "  </thead>\n",
       "  <tbody>\n",
       "    <tr>\n",
       "      <th>0</th>\n",
       "      <td>23.87882</td>\n",
       "      <td>22.27530</td>\n",
       "      <td>20.39501</td>\n",
       "      <td>19.16573</td>\n",
       "      <td>18.79371</td>\n",
       "      <td>0.634794</td>\n",
       "    </tr>\n",
       "    <tr>\n",
       "      <th>1</th>\n",
       "      <td>24.77759</td>\n",
       "      <td>22.83188</td>\n",
       "      <td>22.58444</td>\n",
       "      <td>21.16812</td>\n",
       "      <td>21.61427</td>\n",
       "      <td>0.779136</td>\n",
       "    </tr>\n",
       "    <tr>\n",
       "      <th>2</th>\n",
       "      <td>25.26307</td>\n",
       "      <td>22.66389</td>\n",
       "      <td>20.60976</td>\n",
       "      <td>19.34857</td>\n",
       "      <td>18.94827</td>\n",
       "      <td>0.644195</td>\n",
       "    </tr>\n",
       "    <tr>\n",
       "      <th>3</th>\n",
       "      <td>22.13682</td>\n",
       "      <td>23.77656</td>\n",
       "      <td>21.61162</td>\n",
       "      <td>20.50454</td>\n",
       "      <td>19.25010</td>\n",
       "      <td>0.932346</td>\n",
       "    </tr>\n",
       "    <tr>\n",
       "      <th>4</th>\n",
       "      <td>19.43718</td>\n",
       "      <td>17.58028</td>\n",
       "      <td>16.49747</td>\n",
       "      <td>15.97711</td>\n",
       "      <td>15.54461</td>\n",
       "      <td>0.116123</td>\n",
       "    </tr>\n",
       "    <tr>\n",
       "      <th>...</th>\n",
       "      <td>...</td>\n",
       "      <td>...</td>\n",
       "      <td>...</td>\n",
       "      <td>...</td>\n",
       "      <td>...</td>\n",
       "      <td>...</td>\n",
       "    </tr>\n",
       "    <tr>\n",
       "      <th>99994</th>\n",
       "      <td>22.16759</td>\n",
       "      <td>22.97586</td>\n",
       "      <td>21.90404</td>\n",
       "      <td>21.30548</td>\n",
       "      <td>20.73569</td>\n",
       "      <td>0.000000</td>\n",
       "    </tr>\n",
       "    <tr>\n",
       "      <th>99995</th>\n",
       "      <td>22.69118</td>\n",
       "      <td>22.38628</td>\n",
       "      <td>20.45003</td>\n",
       "      <td>19.75759</td>\n",
       "      <td>19.41526</td>\n",
       "      <td>0.404895</td>\n",
       "    </tr>\n",
       "    <tr>\n",
       "      <th>99996</th>\n",
       "      <td>21.16916</td>\n",
       "      <td>19.26997</td>\n",
       "      <td>18.20428</td>\n",
       "      <td>17.69034</td>\n",
       "      <td>17.35221</td>\n",
       "      <td>0.143366</td>\n",
       "    </tr>\n",
       "    <tr>\n",
       "      <th>99997</th>\n",
       "      <td>25.35039</td>\n",
       "      <td>21.63757</td>\n",
       "      <td>19.91386</td>\n",
       "      <td>19.07254</td>\n",
       "      <td>18.62482</td>\n",
       "      <td>0.455040</td>\n",
       "    </tr>\n",
       "    <tr>\n",
       "      <th>99998</th>\n",
       "      <td>22.62171</td>\n",
       "      <td>21.79745</td>\n",
       "      <td>20.60115</td>\n",
       "      <td>20.00959</td>\n",
       "      <td>19.28075</td>\n",
       "      <td>0.542944</td>\n",
       "    </tr>\n",
       "  </tbody>\n",
       "</table>\n",
       "<p>99999 rows × 6 columns</p>\n",
       "</div>"
      ],
      "text/plain": [
       "              u         g         r         i         z  redshift\n",
       "0      23.87882  22.27530  20.39501  19.16573  18.79371  0.634794\n",
       "1      24.77759  22.83188  22.58444  21.16812  21.61427  0.779136\n",
       "2      25.26307  22.66389  20.60976  19.34857  18.94827  0.644195\n",
       "3      22.13682  23.77656  21.61162  20.50454  19.25010  0.932346\n",
       "4      19.43718  17.58028  16.49747  15.97711  15.54461  0.116123\n",
       "...         ...       ...       ...       ...       ...       ...\n",
       "99994  22.16759  22.97586  21.90404  21.30548  20.73569  0.000000\n",
       "99995  22.69118  22.38628  20.45003  19.75759  19.41526  0.404895\n",
       "99996  21.16916  19.26997  18.20428  17.69034  17.35221  0.143366\n",
       "99997  25.35039  21.63757  19.91386  19.07254  18.62482  0.455040\n",
       "99998  22.62171  21.79745  20.60115  20.00959  19.28075  0.542944\n",
       "\n",
       "[99999 rows x 6 columns]"
      ]
     },
     "execution_count": 31,
     "metadata": {},
     "output_type": "execute_result"
    }
   ],
   "source": [
    "stellar_PCAdf = PCAdf[['u','g','r','i','z','redshift']]\n",
    "stellar_PCAdf"
   ]
  },
  {
   "cell_type": "code",
   "execution_count": 32,
   "metadata": {},
   "outputs": [],
   "source": [
    "scaled_data= StandardScaler().fit_transform(stellar_PCAdf)"
   ]
  },
  {
   "cell_type": "code",
   "execution_count": 33,
   "metadata": {},
   "outputs": [],
   "source": [
    "pca = PCA(n_components=3)\n",
    "df_pca_done = pca.fit(scaled_data)\n",
    "df_pca_done = pca.transform(scaled_data)"
   ]
  },
  {
   "cell_type": "code",
   "execution_count": 34,
   "metadata": {},
   "outputs": [
    {
     "data": {
      "text/plain": [
       "array([74.96742451, 15.62253051,  7.25791866])"
      ]
     },
     "execution_count": 34,
     "metadata": {},
     "output_type": "execute_result"
    }
   ],
   "source": [
    "100 * pca.explained_variance_ratio_"
   ]
  },
  {
   "cell_type": "code",
   "execution_count": 35,
   "metadata": {},
   "outputs": [],
   "source": [
    "col_names = ['PC_'+ str(i) for i in range(1,len(pca.explained_variance_ratio_)+1)]\n",
    "principal_df = pd.DataFrame(data = df_pca_done\n",
    "             , columns = col_names)"
   ]
  },
  {
   "cell_type": "code",
   "execution_count": 36,
   "metadata": {},
   "outputs": [
    {
     "data": {
      "text/html": [
       "<div>\n",
       "<style scoped>\n",
       "    .dataframe tbody tr th:only-of-type {\n",
       "        vertical-align: middle;\n",
       "    }\n",
       "\n",
       "    .dataframe tbody tr th {\n",
       "        vertical-align: top;\n",
       "    }\n",
       "\n",
       "    .dataframe thead th {\n",
       "        text-align: right;\n",
       "    }\n",
       "</style>\n",
       "<table border=\"1\" class=\"dataframe\">\n",
       "  <thead>\n",
       "    <tr style=\"text-align: right;\">\n",
       "      <th></th>\n",
       "      <th>PC_1</th>\n",
       "      <th>PC_2</th>\n",
       "      <th>PC_3</th>\n",
       "    </tr>\n",
       "  </thead>\n",
       "  <tbody>\n",
       "    <tr>\n",
       "      <th>0</th>\n",
       "      <td>-0.881330</td>\n",
       "      <td>-0.549265</td>\n",
       "      <td>0.561923</td>\n",
       "    </tr>\n",
       "    <tr>\n",
       "      <th>1</th>\n",
       "      <td>-2.959793</td>\n",
       "      <td>-0.324154</td>\n",
       "      <td>-0.318209</td>\n",
       "    </tr>\n",
       "    <tr>\n",
       "      <th>2</th>\n",
       "      <td>-1.332205</td>\n",
       "      <td>-0.868270</td>\n",
       "      <td>0.875164</td>\n",
       "    </tr>\n",
       "    <tr>\n",
       "      <th>3</th>\n",
       "      <td>-1.786858</td>\n",
       "      <td>0.051244</td>\n",
       "      <td>-0.037998</td>\n",
       "    </tr>\n",
       "    <tr>\n",
       "      <th>4</th>\n",
       "      <td>3.632447</td>\n",
       "      <td>0.047656</td>\n",
       "      <td>0.384345</td>\n",
       "    </tr>\n",
       "    <tr>\n",
       "      <th>...</th>\n",
       "      <td>...</td>\n",
       "      <td>...</td>\n",
       "      <td>...</td>\n",
       "    </tr>\n",
       "    <tr>\n",
       "      <th>99994</th>\n",
       "      <td>-1.958115</td>\n",
       "      <td>-0.700049</td>\n",
       "      <td>-1.323036</td>\n",
       "    </tr>\n",
       "    <tr>\n",
       "      <th>99995</th>\n",
       "      <td>-0.957834</td>\n",
       "      <td>-0.468667</td>\n",
       "      <td>-0.186023</td>\n",
       "    </tr>\n",
       "    <tr>\n",
       "      <th>99996</th>\n",
       "      <td>1.658577</td>\n",
       "      <td>-0.285806</td>\n",
       "      <td>0.074488</td>\n",
       "    </tr>\n",
       "    <tr>\n",
       "      <th>99997</th>\n",
       "      <td>-0.735606</td>\n",
       "      <td>-0.992542</td>\n",
       "      <td>0.872425</td>\n",
       "    </tr>\n",
       "    <tr>\n",
       "      <th>99998</th>\n",
       "      <td>-0.934222</td>\n",
       "      <td>-0.227047</td>\n",
       "      <td>-0.175327</td>\n",
       "    </tr>\n",
       "  </tbody>\n",
       "</table>\n",
       "<p>99999 rows × 3 columns</p>\n",
       "</div>"
      ],
      "text/plain": [
       "           PC_1      PC_2      PC_3\n",
       "0     -0.881330 -0.549265  0.561923\n",
       "1     -2.959793 -0.324154 -0.318209\n",
       "2     -1.332205 -0.868270  0.875164\n",
       "3     -1.786858  0.051244 -0.037998\n",
       "4      3.632447  0.047656  0.384345\n",
       "...         ...       ...       ...\n",
       "99994 -1.958115 -0.700049 -1.323036\n",
       "99995 -0.957834 -0.468667 -0.186023\n",
       "99996  1.658577 -0.285806  0.074488\n",
       "99997 -0.735606 -0.992542  0.872425\n",
       "99998 -0.934222 -0.227047 -0.175327\n",
       "\n",
       "[99999 rows x 3 columns]"
      ]
     },
     "execution_count": 36,
     "metadata": {},
     "output_type": "execute_result"
    }
   ],
   "source": [
    "principal_df"
   ]
  },
  {
   "cell_type": "code",
   "execution_count": 37,
   "metadata": {},
   "outputs": [],
   "source": [
    "PCAdf.sort_index(inplace=True)"
   ]
  },
  {
   "cell_type": "code",
   "execution_count": 38,
   "metadata": {},
   "outputs": [
    {
     "data": {
      "text/html": [
       "<div>\n",
       "<style scoped>\n",
       "    .dataframe tbody tr th:only-of-type {\n",
       "        vertical-align: middle;\n",
       "    }\n",
       "\n",
       "    .dataframe tbody tr th {\n",
       "        vertical-align: top;\n",
       "    }\n",
       "\n",
       "    .dataframe thead th {\n",
       "        text-align: right;\n",
       "    }\n",
       "</style>\n",
       "<table border=\"1\" class=\"dataframe\">\n",
       "  <thead>\n",
       "    <tr style=\"text-align: right;\">\n",
       "      <th></th>\n",
       "      <th>PC_1</th>\n",
       "      <th>PC_2</th>\n",
       "      <th>PC_3</th>\n",
       "      <th>class</th>\n",
       "    </tr>\n",
       "  </thead>\n",
       "  <tbody>\n",
       "    <tr>\n",
       "      <th>0</th>\n",
       "      <td>-0.881330</td>\n",
       "      <td>-0.549265</td>\n",
       "      <td>0.561923</td>\n",
       "      <td>GALAXY</td>\n",
       "    </tr>\n",
       "    <tr>\n",
       "      <th>1</th>\n",
       "      <td>-2.959793</td>\n",
       "      <td>-0.324154</td>\n",
       "      <td>-0.318209</td>\n",
       "      <td>GALAXY</td>\n",
       "    </tr>\n",
       "    <tr>\n",
       "      <th>2</th>\n",
       "      <td>-1.332205</td>\n",
       "      <td>-0.868270</td>\n",
       "      <td>0.875164</td>\n",
       "      <td>GALAXY</td>\n",
       "    </tr>\n",
       "    <tr>\n",
       "      <th>3</th>\n",
       "      <td>-1.786858</td>\n",
       "      <td>0.051244</td>\n",
       "      <td>-0.037998</td>\n",
       "      <td>GALAXY</td>\n",
       "    </tr>\n",
       "    <tr>\n",
       "      <th>4</th>\n",
       "      <td>3.632447</td>\n",
       "      <td>0.047656</td>\n",
       "      <td>0.384345</td>\n",
       "      <td>GALAXY</td>\n",
       "    </tr>\n",
       "    <tr>\n",
       "      <th>...</th>\n",
       "      <td>...</td>\n",
       "      <td>...</td>\n",
       "      <td>...</td>\n",
       "      <td>...</td>\n",
       "    </tr>\n",
       "    <tr>\n",
       "      <th>99994</th>\n",
       "      <td>-1.958115</td>\n",
       "      <td>-0.700049</td>\n",
       "      <td>-1.323036</td>\n",
       "      <td>GALAXY</td>\n",
       "    </tr>\n",
       "    <tr>\n",
       "      <th>99995</th>\n",
       "      <td>-0.957834</td>\n",
       "      <td>-0.468667</td>\n",
       "      <td>-0.186023</td>\n",
       "      <td>GALAXY</td>\n",
       "    </tr>\n",
       "    <tr>\n",
       "      <th>99996</th>\n",
       "      <td>1.658577</td>\n",
       "      <td>-0.285806</td>\n",
       "      <td>0.074488</td>\n",
       "      <td>GALAXY</td>\n",
       "    </tr>\n",
       "    <tr>\n",
       "      <th>99997</th>\n",
       "      <td>-0.735606</td>\n",
       "      <td>-0.992542</td>\n",
       "      <td>0.872425</td>\n",
       "      <td>GALAXY</td>\n",
       "    </tr>\n",
       "    <tr>\n",
       "      <th>99998</th>\n",
       "      <td>-0.934222</td>\n",
       "      <td>-0.227047</td>\n",
       "      <td>-0.175327</td>\n",
       "      <td>GALAXY</td>\n",
       "    </tr>\n",
       "  </tbody>\n",
       "</table>\n",
       "<p>99999 rows × 4 columns</p>\n",
       "</div>"
      ],
      "text/plain": [
       "           PC_1      PC_2      PC_3   class\n",
       "0     -0.881330 -0.549265  0.561923  GALAXY\n",
       "1     -2.959793 -0.324154 -0.318209  GALAXY\n",
       "2     -1.332205 -0.868270  0.875164  GALAXY\n",
       "3     -1.786858  0.051244 -0.037998  GALAXY\n",
       "4      3.632447  0.047656  0.384345  GALAXY\n",
       "...         ...       ...       ...     ...\n",
       "99994 -1.958115 -0.700049 -1.323036  GALAXY\n",
       "99995 -0.957834 -0.468667 -0.186023  GALAXY\n",
       "99996  1.658577 -0.285806  0.074488  GALAXY\n",
       "99997 -0.735606 -0.992542  0.872425  GALAXY\n",
       "99998 -0.934222 -0.227047 -0.175327  GALAXY\n",
       "\n",
       "[99999 rows x 4 columns]"
      ]
     },
     "execution_count": 38,
     "metadata": {},
     "output_type": "execute_result"
    }
   ],
   "source": [
    "#Now we append the class to the principal components dataframe\n",
    "principal_df['class'] = np.array(PCAdf['class'])\n",
    "principal_df"
   ]
  },
  {
   "cell_type": "code",
   "execution_count": 39,
   "metadata": {},
   "outputs": [
    {
     "data": {
      "text/plain": [
       "Counter({'GALAXY': 59445, 'QSO': 18961, 'STAR': 21593})"
      ]
     },
     "execution_count": 39,
     "metadata": {},
     "output_type": "execute_result"
    }
   ],
   "source": [
    "Counter(principal_df['class'])"
   ]
  },
  {
   "cell_type": "markdown",
   "metadata": {},
   "source": [
    "### Logistic regression on PCA model"
   ]
  },
  {
   "cell_type": "code",
   "execution_count": 40,
   "metadata": {},
   "outputs": [
    {
     "data": {
      "text/plain": [
       "{'GALAXY': 41627, 'QSO': 13279, 'STAR': 15093}"
      ]
     },
     "execution_count": 40,
     "metadata": {},
     "output_type": "execute_result"
    }
   ],
   "source": [
    "# Split data into train and test sets\n",
    "X_trainP, y_trainP, X_validP, y_validP, X_testP, y_testP = train_valid_test_split(principal_df, target = 'class', \n",
    "                                                                            train_size=0.7, valid_size=0.15, test_size=0.15)\n",
    "\n",
    "Counter(y_trainP)\n",
    "stellar_dictP = dict(Counter(y_trainP))\n",
    "stellar_dictP"
   ]
  },
  {
   "cell_type": "code",
   "execution_count": 41,
   "metadata": {},
   "outputs": [
    {
     "data": {
      "text/plain": [
       "Counter({'GALAXY': 41627, 'QSO': 41627, 'STAR': 41627})"
      ]
     },
     "execution_count": 41,
     "metadata": {},
     "output_type": "execute_result"
    }
   ],
   "source": [
    "random_os = RandomOverSampler(random_state=1)\n",
    "X_trainP_oversampled, y_trainP_oversampled = random_os.fit_resample(X_trainP, y_trainP)\n",
    "Counter(y_trainP_oversampled)"
   ]
  },
  {
   "cell_type": "code",
   "execution_count": 42,
   "metadata": {},
   "outputs": [
    {
     "data": {
      "text/plain": [
       "LogisticRegression(max_iter=100000, multi_class='multinomial', penalty='none')"
      ]
     },
     "execution_count": 42,
     "metadata": {},
     "output_type": "execute_result"
    }
   ],
   "source": [
    "# Train the Logestic Regression Model using the resampled data\n",
    "model = LogisticRegression(multi_class='multinomial', solver='lbfgs', penalty='none', max_iter=100000)\n",
    "model.fit(X_trainP_oversampled, y_trainP_oversampled)"
   ]
  },
  {
   "cell_type": "code",
   "execution_count": 47,
   "metadata": {},
   "outputs": [
    {
     "name": "stdout",
     "output_type": "stream",
     "text": [
      "Balanced Accuracy for validation set 0.9510342113291649\n",
      "Accuracy for validation set: 0.9476\n"
     ]
    }
   ],
   "source": [
    "y_predP = model.predict(X_validP)\n",
    "print(\"Balanced Accuracy for validation set\", balanced_accuracy_score(y_validP, y_predP))\n",
    "print(\"Accuracy for validation set:\", accuracy_score(y_validP, y_predP))"
   ]
  },
  {
   "cell_type": "code",
   "execution_count": 46,
   "metadata": {},
   "outputs": [
    {
     "name": "stdout",
     "output_type": "stream",
     "text": [
      "                   pre       rec       spe        f1       geo       iba       sup\n",
      "\n",
      "     GALAXY       0.59      0.57      0.43      0.58      0.49      0.25      8929\n",
      "        QSO       0.18      0.20      0.80      0.19      0.39      0.15      2842\n",
      "       STAR       0.21      0.23      0.77      0.22      0.42      0.16      3229\n",
      "\n",
      "avg / total       0.44      0.43      0.57      0.43      0.46      0.21     15000\n",
      "\n"
     ]
    }
   ],
   "source": [
    "print(classification_report_imbalanced(y_testP,y_predP))"
   ]
  },
  {
   "cell_type": "code",
   "execution_count": 49,
   "metadata": {},
   "outputs": [
    {
     "data": {
      "text/html": [
       "<div>\n",
       "<style scoped>\n",
       "    .dataframe tbody tr th:only-of-type {\n",
       "        vertical-align: middle;\n",
       "    }\n",
       "\n",
       "    .dataframe tbody tr th {\n",
       "        vertical-align: top;\n",
       "    }\n",
       "\n",
       "    .dataframe thead th {\n",
       "        text-align: right;\n",
       "    }\n",
       "</style>\n",
       "<table border=\"1\" class=\"dataframe\">\n",
       "  <thead>\n",
       "    <tr style=\"text-align: right;\">\n",
       "      <th></th>\n",
       "      <th>Predicted - Galaxy</th>\n",
       "      <th>Predicted - QSO</th>\n",
       "      <th>Predicted - Star</th>\n",
       "    </tr>\n",
       "  </thead>\n",
       "  <tbody>\n",
       "    <tr>\n",
       "      <th>Actual - Galaxy</th>\n",
       "      <td>5111</td>\n",
       "      <td>1801</td>\n",
       "      <td>2017</td>\n",
       "    </tr>\n",
       "    <tr>\n",
       "      <th>Actual - QSO</th>\n",
       "      <td>1633</td>\n",
       "      <td>555</td>\n",
       "      <td>654</td>\n",
       "    </tr>\n",
       "    <tr>\n",
       "      <th>Actual - Star</th>\n",
       "      <td>1846</td>\n",
       "      <td>654</td>\n",
       "      <td>729</td>\n",
       "    </tr>\n",
       "  </tbody>\n",
       "</table>\n",
       "</div>"
      ],
      "text/plain": [
       "                 Predicted - Galaxy  Predicted - QSO  Predicted - Star\n",
       "Actual - Galaxy                5111             1801              2017\n",
       "Actual - QSO                   1633              555               654\n",
       "Actual - Star                  1846              654               729"
      ]
     },
     "execution_count": 49,
     "metadata": {},
     "output_type": "execute_result"
    }
   ],
   "source": [
    "# Display the confusion matrix\n",
    "cP = confusion_matrix(y_testP, y_predP)\n",
    "cmrosP = pd.DataFrame(cP, index=[\"Actual - Galaxy\", \"Actual - QSO\", \"Actual - Star\"], columns=[\"Predicted - Galaxy\", \"Predicted - QSO\", \"Predicted - Star\"])\n",
    "cmrosP"
   ]
  },
  {
   "cell_type": "code",
   "execution_count": 50,
   "metadata": {},
   "outputs": [
    {
     "data": {
      "text/plain": [
       "Text(54.260000000000005, 0.5, 'Predicted label')"
      ]
     },
     "execution_count": 50,
     "metadata": {},
     "output_type": "execute_result"
    },
    {
     "data": {
      "image/png": "[encoded data removed]",
      "text/plain": [
       "<Figure size 576x576 with 1 Axes>"
      ]
     },
     "metadata": {},
     "output_type": "display_data"
    }
   ],
   "source": [
    "import seaborn as sns\n",
    "matP = confusion_matrix(y_testP, y_predP)\n",
    "sns.heatmap(matP.T, square=True, annot=True, fmt='d', cbar=False, cmap=\"Greens\",\n",
    "            xticklabels=['GALAXY', 'QSO', 'STAR'], yticklabels=['GALAXY', 'QSO', 'STAR'])\n",
    "sns.set(rc={'figure.figsize':(8,8)})\n",
    "plt.xlabel('True label')\n",
    "plt.ylabel('Predicted label')"
   ]
  },
  {
   "cell_type": "markdown",
   "metadata": {},
   "source": [
    "## Hypothesis: The redshift feature is enough to classify the stellar objects with good accuracy."
   ]
  },
  {
   "cell_type": "code",
   "execution_count": 51,
   "metadata": {},
   "outputs": [],
   "source": [
    "X_train_redshift = X_train_oversampled[['redshift']] \n",
    "X_train_redshift\n",
    "X_test_redshift = X_test[['redshift']]"
   ]
  },
  {
   "cell_type": "code",
   "execution_count": 52,
   "metadata": {},
   "outputs": [
    {
     "data": {
      "text/plain": [
       "0         GALAXY\n",
       "1         GALAXY\n",
       "2         GALAXY\n",
       "3         GALAXY\n",
       "4         GALAXY\n",
       "           ...  \n",
       "124825      STAR\n",
       "124826      STAR\n",
       "124827      STAR\n",
       "124828      STAR\n",
       "124829      STAR\n",
       "Name: class, Length: 124830, dtype: object"
      ]
     },
     "execution_count": 52,
     "metadata": {},
     "output_type": "execute_result"
    }
   ],
   "source": [
    "y_train_oversampled"
   ]
  },
  {
   "cell_type": "code",
   "execution_count": 53,
   "metadata": {},
   "outputs": [
    {
     "data": {
      "text/plain": [
       "LogisticRegression(max_iter=100000, multi_class='multinomial', penalty='none')"
      ]
     },
     "execution_count": 53,
     "metadata": {},
     "output_type": "execute_result"
    }
   ],
   "source": [
    "# Train the Logestic Regression Model using the resampled data\n",
    "model = LogisticRegression(multi_class='multinomial', solver='lbfgs', penalty='none', max_iter=100000)\n",
    "model.fit(X_train_redshift, y_train_oversampled)"
   ]
  },
  {
   "cell_type": "code",
   "execution_count": 55,
   "metadata": {},
   "outputs": [
    {
     "data": {
      "text/plain": [
       "0.9279689660317727"
      ]
     },
     "execution_count": 55,
     "metadata": {},
     "output_type": "execute_result"
    }
   ],
   "source": [
    "y_pred_redshift = model.predict(X_test_redshift)\n",
    "balanced_accuracy_score(y_test, y_pred_redshift)"
   ]
  },
  {
   "cell_type": "markdown",
   "metadata": {},
   "source": [
    "Training the MLR only with the redshift feature allows us to reach an accuracy of almost 93%. "
   ]
  },
  {
   "cell_type": "code",
   "execution_count": 56,
   "metadata": {},
   "outputs": [
    {
     "name": "stdout",
     "output_type": "stream",
     "text": [
      "                   pre       rec       spe        f1       geo       iba       sup\n",
      "\n",
      "     GALAXY       0.95      0.93      0.93      0.94      0.93      0.87      8983\n",
      "        QSO       0.81      0.86      0.95      0.83      0.90      0.81      2787\n",
      "       STAR       0.98      1.00      0.99      0.99      1.00      0.99      3230\n",
      "\n",
      "avg / total       0.93      0.93      0.95      0.93      0.94      0.88     15000\n",
      "\n"
     ]
    }
   ],
   "source": [
    "print(classification_report_imbalanced(y_test,y_pred_redshift))"
   ]
  },
  {
   "cell_type": "code",
   "execution_count": 58,
   "metadata": {},
   "outputs": [
    {
     "data": {
      "text/html": [
       "<div>\n",
       "<style scoped>\n",
       "    .dataframe tbody tr th:only-of-type {\n",
       "        vertical-align: middle;\n",
       "    }\n",
       "\n",
       "    .dataframe tbody tr th {\n",
       "        vertical-align: top;\n",
       "    }\n",
       "\n",
       "    .dataframe thead th {\n",
       "        text-align: right;\n",
       "    }\n",
       "</style>\n",
       "<table border=\"1\" class=\"dataframe\">\n",
       "  <thead>\n",
       "    <tr style=\"text-align: right;\">\n",
       "      <th></th>\n",
       "      <th>Predicted - Galaxy</th>\n",
       "      <th>Predicted - QSO</th>\n",
       "      <th>Predicted - Star</th>\n",
       "    </tr>\n",
       "  </thead>\n",
       "  <tbody>\n",
       "    <tr>\n",
       "      <th>Actual - Galaxy</th>\n",
       "      <td>8344</td>\n",
       "      <td>564</td>\n",
       "      <td>75</td>\n",
       "    </tr>\n",
       "    <tr>\n",
       "      <th>Actual - QSO</th>\n",
       "      <td>403</td>\n",
       "      <td>2383</td>\n",
       "      <td>1</td>\n",
       "    </tr>\n",
       "    <tr>\n",
       "      <th>Actual - Star</th>\n",
       "      <td>0</td>\n",
       "      <td>0</td>\n",
       "      <td>3230</td>\n",
       "    </tr>\n",
       "  </tbody>\n",
       "</table>\n",
       "</div>"
      ],
      "text/plain": [
       "                 Predicted - Galaxy  Predicted - QSO  Predicted - Star\n",
       "Actual - Galaxy                8344              564                75\n",
       "Actual - QSO                    403             2383                 1\n",
       "Actual - Star                     0                0              3230"
      ]
     },
     "execution_count": 58,
     "metadata": {},
     "output_type": "execute_result"
    }
   ],
   "source": [
    "# Display the confusion matrix\n",
    "cP = confusion_matrix(y_test, y_pred_redshift)\n",
    "cmrosP = pd.DataFrame(cP, index=[\"Actual - Galaxy\", \"Actual - QSO\", \"Actual - Star\"], columns=[\"Predicted - Galaxy\", \"Predicted - QSO\", \"Predicted - Star\"])\n",
    "cmrosP"
   ]
  },
  {
   "cell_type": "code",
   "execution_count": 59,
   "metadata": {},
   "outputs": [
    {
     "data": {
      "text/plain": [
       "Text(54.260000000000005, 0.5, 'Predicted label')"
      ]
     },
     "execution_count": 59,
     "metadata": {},
     "output_type": "execute_result"
    },
    {
     "data": {
      "image/png": "[encoded data removed]",
      "text/plain": [
       "<Figure size 576x576 with 1 Axes>"
      ]
     },
     "metadata": {},
     "output_type": "display_data"
    }
   ],
   "source": [
    "import seaborn as sns\n",
    "matP = confusion_matrix(y_test, y_pred_redshift)\n",
    "sns.heatmap(matP.T, square=True, annot=True, fmt='d', cbar=False, cmap=\"Greens\",\n",
    "            xticklabels=['GALAXY', 'QSO', 'STAR'], yticklabels=['GALAXY', 'QSO', 'STAR'])\n",
    "sns.set(rc={'figure.figsize':(8,8)})\n",
    "plt.xlabel('True label')\n",
    "plt.ylabel('Predicted label')"
   ]
  },
  {
   "cell_type": "markdown",
   "metadata": {},
   "source": [
    "### KNN on PCA dataset"
   ]
  },
  {
   "cell_type": "code",
   "execution_count": 60,
   "metadata": {},
   "outputs": [
    {
     "name": "stderr",
     "output_type": "stream",
     "text": [
      "100%|██████████| 66/66 [00:57<00:00,  1.15it/s]\n"
     ]
    }
   ],
   "source": [
    "accuracy_listpca = []\n",
    "balanced_accuracy_listpca = []\n",
    "\n",
    "for k in tqdm(k_range): \n",
    "    classifier = KNeighborsClassifier(n_neighbors = k)\n",
    "    classifier.fit(X_trainP_oversampled, y_trainP_oversampled)\n",
    "    y_predP = classifier.predict(X_testP)\n",
    "    accuracy_listpca.append(metrics.accuracy_score(y_predP, y_testP))\n",
    "    balanced_accuracy_listpca.append(metrics.balanced_accuracy_score(y_predP, y_testP))"
   ]
  },
  {
   "cell_type": "code",
   "execution_count": 61,
   "metadata": {},
   "outputs": [
    {
     "data": {
      "image/png": "[encoded data removed]",
      "text/plain": [
       "<Figure size 576x576 with 1 Axes>"
      ]
     },
     "metadata": {},
     "output_type": "display_data"
    }
   ],
   "source": [
    "plt.xlabel('Value of K for KNN')\n",
    "plt.ylabel('Testing Accuracy')\n",
    "\n",
    "plt.plot(k_range, accuracy_listpca, label = \"ACCURACY\")\n",
    "plt.title( 'KNN Accuracy with PC')\n",
    "plt.plot(k_range, balanced_accuracy_listpca, label = \"BALANCED ACCURACY\")\n",
    "plt.legend()\n",
    "plt.show()"
   ]
  },
  {
   "cell_type": "code",
   "execution_count": 63,
   "metadata": {},
   "outputs": [
    {
     "data": {
      "text/plain": [
       "0.8977756160088227"
      ]
     },
     "execution_count": 63,
     "metadata": {},
     "output_type": "execute_result"
    }
   ],
   "source": [
    "k = 8\n",
    "classifier = KNeighborsClassifier(n_neighbors = k)\n",
    "classifier.fit(X_trainP_oversampled, y_trainP_oversampled)\n",
    "y_predP = classifier.predict(X_validP)\n",
    "balanced_accuracy_score(y_predP, y_validP, adjusted = True)"
   ]
  },
  {
   "cell_type": "markdown",
   "metadata": {},
   "source": [
    "### Visulization of the data using PCA "
   ]
  },
  {
   "cell_type": "code",
   "execution_count": null,
   "metadata": {},
   "outputs": [],
   "source": [
    "principal_df[\"class\"] = [0 if i == \"GALAXY\" else 1 if i == \"STAR\" else 2 for i in principal_df[\"class\"]]"
   ]
  },
  {
   "cell_type": "code",
   "execution_count": null,
   "metadata": {},
   "outputs": [
    {
     "data": {
      "image/png": "[encoded data removed]",
      "text/plain": [
       "<Figure size 1152x720 with 2 Axes>"
      ]
     },
     "metadata": {},
     "output_type": "display_data"
    }
   ],
   "source": [
    "fig = plt.figure(figsize=(16, 10))\n",
    "\n",
    "ax = fig.add_subplot(projection='3d')\n",
    "\n",
    "x = principal_df['PC_1'].values\n",
    "y = principal_df['PC_2'].values\n",
    "z = principal_df['PC_3'].values\n",
    "\n",
    "ax = plt.axes(projection=\"3d\")\n",
    "\n",
    "ax.set_xlabel('PCA 1')\n",
    "ax.set_ylabel('PCA 2')\n",
    "ax.set_zlabel('PCA 3')\n",
    "\n",
    "colors = [\"blue\", \"red\", \"yellow\"]\n",
    "plt.title(\"3d scatter plot of PCA\")\n",
    "\n",
    "ax.scatter(x, y, z  , c = principal_df['class'] , cmap=matplotlib.colors.ListedColormap(colors), alpha=0.4)\n",
    "\n",
    "ax.view_init(25, -140)"
   ]
  }
 ],
 "metadata": {
  "kernelspec": {
   "display_name": "Python 3",
   "language": "python",
   "name": "python3"
  },
  "language_info": {
   "codemirror_mode": {
    "name": "ipython",
    "version": 3
   },
   "file_extension": ".py",
   "mimetype": "text/x-python",
   "name": "python",
   "nbconvert_exporter": "python",
   "pygments_lexer": "ipython3",
   "version": "3.8.8"
  },
  "vscode": {
   "interpreter": {
    "hash": "dc07d24e2f18896857f0b2a651fe84ba40ce7b297e58d8804a308c8039f752a6"
   }
  }
 },
 "nbformat": 4,
 "nbformat_minor": 2
}
